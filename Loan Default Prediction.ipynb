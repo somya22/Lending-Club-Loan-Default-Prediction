{
 "cells": [
  {
   "cell_type": "code",
   "execution_count": 1,
   "id": "b79c957c",
   "metadata": {},
   "outputs": [],
   "source": [
    "import pandas as pd\n",
    "import numpy as np\n",
    "import matplotlib.pyplot as plt\n",
    "import seaborn as sns\n",
    "from datetime import datetime\n",
    "from sklearn.model_selection import train_test_split\n",
    "from sklearn.ensemble import RandomForestClassifier"
   ]
  },
  {
   "cell_type": "code",
   "execution_count": 2,
   "id": "75d9e00d",
   "metadata": {},
   "outputs": [
    {
     "name": "stderr",
     "output_type": "stream",
     "text": [
      "C:\\Users\\somya\\anaconda3\\lib\\site-packages\\IPython\\core\\interactiveshell.py:3165: DtypeWarning: Columns (47,55,132) have mixed types.Specify dtype option on import or set low_memory=False.\n",
      "  has_raised = await self.run_ast_nodes(code_ast.body, cell_name,\n"
     ]
    }
   ],
   "source": [
    "df= pd.read_csv('lcDataSample.csv')"
   ]
  },
  {
   "cell_type": "code",
   "execution_count": 3,
   "id": "5a1a80db",
   "metadata": {},
   "outputs": [],
   "source": [
    "pd.options.display.float_format = '{:.2f}'.format"
   ]
  },
  {
   "cell_type": "code",
   "execution_count": 4,
   "id": "8b99310a",
   "metadata": {},
   "outputs": [
    {
     "data": {
      "text/html": [
       "<div>\n",
       "<style scoped>\n",
       "    .dataframe tbody tr th:only-of-type {\n",
       "        vertical-align: middle;\n",
       "    }\n",
       "\n",
       "    .dataframe tbody tr th {\n",
       "        vertical-align: top;\n",
       "    }\n",
       "\n",
       "    .dataframe thead th {\n",
       "        text-align: right;\n",
       "    }\n",
       "</style>\n",
       "<table border=\"1\" class=\"dataframe\">\n",
       "  <thead>\n",
       "    <tr style=\"text-align: right;\">\n",
       "      <th></th>\n",
       "      <th>id</th>\n",
       "      <th>member_id</th>\n",
       "      <th>loan_amnt</th>\n",
       "      <th>funded_amnt</th>\n",
       "      <th>funded_amnt_inv</th>\n",
       "      <th>term</th>\n",
       "      <th>int_rate</th>\n",
       "      <th>installment</th>\n",
       "      <th>grade</th>\n",
       "      <th>sub_grade</th>\n",
       "      <th>...</th>\n",
       "      <th>hardship_payoff_balance_amount</th>\n",
       "      <th>hardship_last_payment_amount</th>\n",
       "      <th>disbursement_method</th>\n",
       "      <th>debt_settlement_flag</th>\n",
       "      <th>debt_settlement_flag_date</th>\n",
       "      <th>settlement_status</th>\n",
       "      <th>settlement_date</th>\n",
       "      <th>settlement_amount</th>\n",
       "      <th>settlement_percentage</th>\n",
       "      <th>settlement_term</th>\n",
       "    </tr>\n",
       "  </thead>\n",
       "  <tbody>\n",
       "    <tr>\n",
       "      <th>0</th>\n",
       "      <td>NaN</td>\n",
       "      <td>NaN</td>\n",
       "      <td>4400</td>\n",
       "      <td>4400</td>\n",
       "      <td>4400.00</td>\n",
       "      <td>36 months</td>\n",
       "      <td>22.99</td>\n",
       "      <td>170.30</td>\n",
       "      <td>F</td>\n",
       "      <td>F1</td>\n",
       "      <td>...</td>\n",
       "      <td>NaN</td>\n",
       "      <td>NaN</td>\n",
       "      <td>Cash</td>\n",
       "      <td>N</td>\n",
       "      <td>NaN</td>\n",
       "      <td>NaN</td>\n",
       "      <td>NaN</td>\n",
       "      <td>NaN</td>\n",
       "      <td>NaN</td>\n",
       "      <td>NaN</td>\n",
       "    </tr>\n",
       "    <tr>\n",
       "      <th>1</th>\n",
       "      <td>NaN</td>\n",
       "      <td>NaN</td>\n",
       "      <td>5850</td>\n",
       "      <td>5850</td>\n",
       "      <td>5850.00</td>\n",
       "      <td>36 months</td>\n",
       "      <td>21.99</td>\n",
       "      <td>223.39</td>\n",
       "      <td>E</td>\n",
       "      <td>E4</td>\n",
       "      <td>...</td>\n",
       "      <td>NaN</td>\n",
       "      <td>NaN</td>\n",
       "      <td>Cash</td>\n",
       "      <td>N</td>\n",
       "      <td>NaN</td>\n",
       "      <td>NaN</td>\n",
       "      <td>NaN</td>\n",
       "      <td>NaN</td>\n",
       "      <td>NaN</td>\n",
       "      <td>NaN</td>\n",
       "    </tr>\n",
       "    <tr>\n",
       "      <th>2</th>\n",
       "      <td>NaN</td>\n",
       "      <td>NaN</td>\n",
       "      <td>5000</td>\n",
       "      <td>5000</td>\n",
       "      <td>5000.00</td>\n",
       "      <td>36 months</td>\n",
       "      <td>6.24</td>\n",
       "      <td>152.66</td>\n",
       "      <td>A</td>\n",
       "      <td>A2</td>\n",
       "      <td>...</td>\n",
       "      <td>NaN</td>\n",
       "      <td>NaN</td>\n",
       "      <td>Cash</td>\n",
       "      <td>N</td>\n",
       "      <td>NaN</td>\n",
       "      <td>NaN</td>\n",
       "      <td>NaN</td>\n",
       "      <td>NaN</td>\n",
       "      <td>NaN</td>\n",
       "      <td>NaN</td>\n",
       "    </tr>\n",
       "    <tr>\n",
       "      <th>3</th>\n",
       "      <td>NaN</td>\n",
       "      <td>NaN</td>\n",
       "      <td>1600</td>\n",
       "      <td>1600</td>\n",
       "      <td>1600.00</td>\n",
       "      <td>36 months</td>\n",
       "      <td>14.99</td>\n",
       "      <td>55.46</td>\n",
       "      <td>C</td>\n",
       "      <td>C5</td>\n",
       "      <td>...</td>\n",
       "      <td>NaN</td>\n",
       "      <td>NaN</td>\n",
       "      <td>Cash</td>\n",
       "      <td>N</td>\n",
       "      <td>NaN</td>\n",
       "      <td>NaN</td>\n",
       "      <td>NaN</td>\n",
       "      <td>NaN</td>\n",
       "      <td>NaN</td>\n",
       "      <td>NaN</td>\n",
       "    </tr>\n",
       "    <tr>\n",
       "      <th>4</th>\n",
       "      <td>NaN</td>\n",
       "      <td>NaN</td>\n",
       "      <td>16000</td>\n",
       "      <td>16000</td>\n",
       "      <td>16000.00</td>\n",
       "      <td>36 months</td>\n",
       "      <td>9.17</td>\n",
       "      <td>510.07</td>\n",
       "      <td>B</td>\n",
       "      <td>B2</td>\n",
       "      <td>...</td>\n",
       "      <td>NaN</td>\n",
       "      <td>NaN</td>\n",
       "      <td>Cash</td>\n",
       "      <td>N</td>\n",
       "      <td>NaN</td>\n",
       "      <td>NaN</td>\n",
       "      <td>NaN</td>\n",
       "      <td>NaN</td>\n",
       "      <td>NaN</td>\n",
       "      <td>NaN</td>\n",
       "    </tr>\n",
       "  </tbody>\n",
       "</table>\n",
       "<p>5 rows × 145 columns</p>\n",
       "</div>"
      ],
      "text/plain": [
       "   id  member_id  loan_amnt  funded_amnt  funded_amnt_inv       term  \\\n",
       "0 NaN        NaN       4400         4400          4400.00  36 months   \n",
       "1 NaN        NaN       5850         5850          5850.00  36 months   \n",
       "2 NaN        NaN       5000         5000          5000.00  36 months   \n",
       "3 NaN        NaN       1600         1600          1600.00  36 months   \n",
       "4 NaN        NaN      16000        16000         16000.00  36 months   \n",
       "\n",
       "   int_rate  installment grade sub_grade  ... hardship_payoff_balance_amount  \\\n",
       "0     22.99       170.30     F        F1  ...                            NaN   \n",
       "1     21.99       223.39     E        E4  ...                            NaN   \n",
       "2      6.24       152.66     A        A2  ...                            NaN   \n",
       "3     14.99        55.46     C        C5  ...                            NaN   \n",
       "4      9.17       510.07     B        B2  ...                            NaN   \n",
       "\n",
       "  hardship_last_payment_amount disbursement_method  debt_settlement_flag  \\\n",
       "0                          NaN                Cash                     N   \n",
       "1                          NaN                Cash                     N   \n",
       "2                          NaN                Cash                     N   \n",
       "3                          NaN                Cash                     N   \n",
       "4                          NaN                Cash                     N   \n",
       "\n",
       "  debt_settlement_flag_date settlement_status settlement_date  \\\n",
       "0                       NaN               NaN             NaN   \n",
       "1                       NaN               NaN             NaN   \n",
       "2                       NaN               NaN             NaN   \n",
       "3                       NaN               NaN             NaN   \n",
       "4                       NaN               NaN             NaN   \n",
       "\n",
       "  settlement_amount  settlement_percentage  settlement_term  \n",
       "0               NaN                    NaN              NaN  \n",
       "1               NaN                    NaN              NaN  \n",
       "2               NaN                    NaN              NaN  \n",
       "3               NaN                    NaN              NaN  \n",
       "4               NaN                    NaN              NaN  \n",
       "\n",
       "[5 rows x 145 columns]"
      ]
     },
     "execution_count": 4,
     "metadata": {},
     "output_type": "execute_result"
    }
   ],
   "source": [
    "df.head()"
   ]
  },
  {
   "cell_type": "code",
   "execution_count": 5,
   "id": "6ce08f15",
   "metadata": {},
   "outputs": [
    {
     "data": {
      "text/plain": [
       "(110000, 145)"
      ]
     },
     "execution_count": 5,
     "metadata": {},
     "output_type": "execute_result"
    }
   ],
   "source": [
    "df.shape"
   ]
  },
  {
   "cell_type": "code",
   "execution_count": 6,
   "id": "0582f162",
   "metadata": {
    "scrolled": true
   },
   "outputs": [
    {
     "data": {
      "text/html": [
       "<div>\n",
       "<style scoped>\n",
       "    .dataframe tbody tr th:only-of-type {\n",
       "        vertical-align: middle;\n",
       "    }\n",
       "\n",
       "    .dataframe tbody tr th {\n",
       "        vertical-align: top;\n",
       "    }\n",
       "\n",
       "    .dataframe thead th {\n",
       "        text-align: right;\n",
       "    }\n",
       "</style>\n",
       "<table border=\"1\" class=\"dataframe\">\n",
       "  <thead>\n",
       "    <tr style=\"text-align: right;\">\n",
       "      <th></th>\n",
       "      <th>id</th>\n",
       "      <th>member_id</th>\n",
       "      <th>loan_amnt</th>\n",
       "      <th>funded_amnt</th>\n",
       "      <th>funded_amnt_inv</th>\n",
       "      <th>int_rate</th>\n",
       "      <th>installment</th>\n",
       "      <th>annual_inc</th>\n",
       "      <th>url</th>\n",
       "      <th>desc</th>\n",
       "      <th>...</th>\n",
       "      <th>hardship_length</th>\n",
       "      <th>hardship_loan_status</th>\n",
       "      <th>orig_projected_additional_accrued_interest</th>\n",
       "      <th>hardship_payoff_balance_amount</th>\n",
       "      <th>hardship_last_payment_amount</th>\n",
       "      <th>debt_settlement_flag_date</th>\n",
       "      <th>settlement_status</th>\n",
       "      <th>settlement_date</th>\n",
       "      <th>settlement_amount</th>\n",
       "      <th>settlement_percentage</th>\n",
       "    </tr>\n",
       "  </thead>\n",
       "  <tbody>\n",
       "    <tr>\n",
       "      <th>count</th>\n",
       "      <td>0.00</td>\n",
       "      <td>0.00</td>\n",
       "      <td>110000.00</td>\n",
       "      <td>110000.00</td>\n",
       "      <td>110000.00</td>\n",
       "      <td>110000.00</td>\n",
       "      <td>110000.00</td>\n",
       "      <td>110000.00</td>\n",
       "      <td>0.00</td>\n",
       "      <td>0.00</td>\n",
       "      <td>...</td>\n",
       "      <td>0.00</td>\n",
       "      <td>0.00</td>\n",
       "      <td>0.00</td>\n",
       "      <td>0.00</td>\n",
       "      <td>0.00</td>\n",
       "      <td>0.00</td>\n",
       "      <td>0.00</td>\n",
       "      <td>0.00</td>\n",
       "      <td>0.00</td>\n",
       "      <td>0.00</td>\n",
       "    </tr>\n",
       "    <tr>\n",
       "      <th>mean</th>\n",
       "      <td>NaN</td>\n",
       "      <td>NaN</td>\n",
       "      <td>12684.47</td>\n",
       "      <td>12684.18</td>\n",
       "      <td>12677.93</td>\n",
       "      <td>12.05</td>\n",
       "      <td>420.46</td>\n",
       "      <td>72979.00</td>\n",
       "      <td>NaN</td>\n",
       "      <td>NaN</td>\n",
       "      <td>...</td>\n",
       "      <td>NaN</td>\n",
       "      <td>NaN</td>\n",
       "      <td>NaN</td>\n",
       "      <td>NaN</td>\n",
       "      <td>NaN</td>\n",
       "      <td>NaN</td>\n",
       "      <td>NaN</td>\n",
       "      <td>NaN</td>\n",
       "      <td>NaN</td>\n",
       "      <td>NaN</td>\n",
       "    </tr>\n",
       "    <tr>\n",
       "      <th>std</th>\n",
       "      <td>NaN</td>\n",
       "      <td>NaN</td>\n",
       "      <td>7856.62</td>\n",
       "      <td>7856.43</td>\n",
       "      <td>7852.82</td>\n",
       "      <td>3.87</td>\n",
       "      <td>261.61</td>\n",
       "      <td>66037.73</td>\n",
       "      <td>NaN</td>\n",
       "      <td>NaN</td>\n",
       "      <td>...</td>\n",
       "      <td>NaN</td>\n",
       "      <td>NaN</td>\n",
       "      <td>NaN</td>\n",
       "      <td>NaN</td>\n",
       "      <td>NaN</td>\n",
       "      <td>NaN</td>\n",
       "      <td>NaN</td>\n",
       "      <td>NaN</td>\n",
       "      <td>NaN</td>\n",
       "      <td>NaN</td>\n",
       "    </tr>\n",
       "    <tr>\n",
       "      <th>min</th>\n",
       "      <td>NaN</td>\n",
       "      <td>NaN</td>\n",
       "      <td>1000.00</td>\n",
       "      <td>1000.00</td>\n",
       "      <td>900.00</td>\n",
       "      <td>5.32</td>\n",
       "      <td>30.44</td>\n",
       "      <td>0.00</td>\n",
       "      <td>NaN</td>\n",
       "      <td>NaN</td>\n",
       "      <td>...</td>\n",
       "      <td>NaN</td>\n",
       "      <td>NaN</td>\n",
       "      <td>NaN</td>\n",
       "      <td>NaN</td>\n",
       "      <td>NaN</td>\n",
       "      <td>NaN</td>\n",
       "      <td>NaN</td>\n",
       "      <td>NaN</td>\n",
       "      <td>NaN</td>\n",
       "      <td>NaN</td>\n",
       "    </tr>\n",
       "    <tr>\n",
       "      <th>25%</th>\n",
       "      <td>NaN</td>\n",
       "      <td>NaN</td>\n",
       "      <td>7000.00</td>\n",
       "      <td>7000.00</td>\n",
       "      <td>7000.00</td>\n",
       "      <td>8.90</td>\n",
       "      <td>226.40</td>\n",
       "      <td>43000.00</td>\n",
       "      <td>NaN</td>\n",
       "      <td>NaN</td>\n",
       "      <td>...</td>\n",
       "      <td>NaN</td>\n",
       "      <td>NaN</td>\n",
       "      <td>NaN</td>\n",
       "      <td>NaN</td>\n",
       "      <td>NaN</td>\n",
       "      <td>NaN</td>\n",
       "      <td>NaN</td>\n",
       "      <td>NaN</td>\n",
       "      <td>NaN</td>\n",
       "      <td>NaN</td>\n",
       "    </tr>\n",
       "    <tr>\n",
       "      <th>50%</th>\n",
       "      <td>NaN</td>\n",
       "      <td>NaN</td>\n",
       "      <td>10000.00</td>\n",
       "      <td>10000.00</td>\n",
       "      <td>10000.00</td>\n",
       "      <td>11.99</td>\n",
       "      <td>349.36</td>\n",
       "      <td>60000.00</td>\n",
       "      <td>NaN</td>\n",
       "      <td>NaN</td>\n",
       "      <td>...</td>\n",
       "      <td>NaN</td>\n",
       "      <td>NaN</td>\n",
       "      <td>NaN</td>\n",
       "      <td>NaN</td>\n",
       "      <td>NaN</td>\n",
       "      <td>NaN</td>\n",
       "      <td>NaN</td>\n",
       "      <td>NaN</td>\n",
       "      <td>NaN</td>\n",
       "      <td>NaN</td>\n",
       "    </tr>\n",
       "    <tr>\n",
       "      <th>75%</th>\n",
       "      <td>NaN</td>\n",
       "      <td>NaN</td>\n",
       "      <td>16750.00</td>\n",
       "      <td>16750.00</td>\n",
       "      <td>16750.00</td>\n",
       "      <td>14.48</td>\n",
       "      <td>554.58</td>\n",
       "      <td>88000.00</td>\n",
       "      <td>NaN</td>\n",
       "      <td>NaN</td>\n",
       "      <td>...</td>\n",
       "      <td>NaN</td>\n",
       "      <td>NaN</td>\n",
       "      <td>NaN</td>\n",
       "      <td>NaN</td>\n",
       "      <td>NaN</td>\n",
       "      <td>NaN</td>\n",
       "      <td>NaN</td>\n",
       "      <td>NaN</td>\n",
       "      <td>NaN</td>\n",
       "      <td>NaN</td>\n",
       "    </tr>\n",
       "    <tr>\n",
       "      <th>max</th>\n",
       "      <td>NaN</td>\n",
       "      <td>NaN</td>\n",
       "      <td>35000.00</td>\n",
       "      <td>35000.00</td>\n",
       "      <td>35000.00</td>\n",
       "      <td>28.99</td>\n",
       "      <td>1445.46</td>\n",
       "      <td>8253000.00</td>\n",
       "      <td>NaN</td>\n",
       "      <td>NaN</td>\n",
       "      <td>...</td>\n",
       "      <td>NaN</td>\n",
       "      <td>NaN</td>\n",
       "      <td>NaN</td>\n",
       "      <td>NaN</td>\n",
       "      <td>NaN</td>\n",
       "      <td>NaN</td>\n",
       "      <td>NaN</td>\n",
       "      <td>NaN</td>\n",
       "      <td>NaN</td>\n",
       "      <td>NaN</td>\n",
       "    </tr>\n",
       "  </tbody>\n",
       "</table>\n",
       "<p>8 rows × 119 columns</p>\n",
       "</div>"
      ],
      "text/plain": [
       "        id  member_id  loan_amnt  funded_amnt  funded_amnt_inv  int_rate  \\\n",
       "count 0.00       0.00  110000.00    110000.00        110000.00 110000.00   \n",
       "mean   NaN        NaN   12684.47     12684.18         12677.93     12.05   \n",
       "std    NaN        NaN    7856.62      7856.43          7852.82      3.87   \n",
       "min    NaN        NaN    1000.00      1000.00           900.00      5.32   \n",
       "25%    NaN        NaN    7000.00      7000.00          7000.00      8.90   \n",
       "50%    NaN        NaN   10000.00     10000.00         10000.00     11.99   \n",
       "75%    NaN        NaN   16750.00     16750.00         16750.00     14.48   \n",
       "max    NaN        NaN   35000.00     35000.00         35000.00     28.99   \n",
       "\n",
       "       installment  annual_inc  url  desc  ...  hardship_length  \\\n",
       "count    110000.00   110000.00 0.00  0.00  ...             0.00   \n",
       "mean        420.46    72979.00  NaN   NaN  ...              NaN   \n",
       "std         261.61    66037.73  NaN   NaN  ...              NaN   \n",
       "min          30.44        0.00  NaN   NaN  ...              NaN   \n",
       "25%         226.40    43000.00  NaN   NaN  ...              NaN   \n",
       "50%         349.36    60000.00  NaN   NaN  ...              NaN   \n",
       "75%         554.58    88000.00  NaN   NaN  ...              NaN   \n",
       "max        1445.46  8253000.00  NaN   NaN  ...              NaN   \n",
       "\n",
       "       hardship_loan_status  orig_projected_additional_accrued_interest  \\\n",
       "count                  0.00                                        0.00   \n",
       "mean                    NaN                                         NaN   \n",
       "std                     NaN                                         NaN   \n",
       "min                     NaN                                         NaN   \n",
       "25%                     NaN                                         NaN   \n",
       "50%                     NaN                                         NaN   \n",
       "75%                     NaN                                         NaN   \n",
       "max                     NaN                                         NaN   \n",
       "\n",
       "       hardship_payoff_balance_amount  hardship_last_payment_amount  \\\n",
       "count                            0.00                          0.00   \n",
       "mean                              NaN                           NaN   \n",
       "std                               NaN                           NaN   \n",
       "min                               NaN                           NaN   \n",
       "25%                               NaN                           NaN   \n",
       "50%                               NaN                           NaN   \n",
       "75%                               NaN                           NaN   \n",
       "max                               NaN                           NaN   \n",
       "\n",
       "       debt_settlement_flag_date  settlement_status  settlement_date  \\\n",
       "count                       0.00               0.00             0.00   \n",
       "mean                         NaN                NaN              NaN   \n",
       "std                          NaN                NaN              NaN   \n",
       "min                          NaN                NaN              NaN   \n",
       "25%                          NaN                NaN              NaN   \n",
       "50%                          NaN                NaN              NaN   \n",
       "75%                          NaN                NaN              NaN   \n",
       "max                          NaN                NaN              NaN   \n",
       "\n",
       "       settlement_amount  settlement_percentage  \n",
       "count               0.00                   0.00  \n",
       "mean                 NaN                    NaN  \n",
       "std                  NaN                    NaN  \n",
       "min                  NaN                    NaN  \n",
       "25%                  NaN                    NaN  \n",
       "50%                  NaN                    NaN  \n",
       "75%                  NaN                    NaN  \n",
       "max                  NaN                    NaN  \n",
       "\n",
       "[8 rows x 119 columns]"
      ]
     },
     "execution_count": 6,
     "metadata": {},
     "output_type": "execute_result"
    }
   ],
   "source": [
    "df.describe()"
   ]
  },
  {
   "cell_type": "markdown",
   "id": "8d4f3ff8",
   "metadata": {},
   "source": [
    "Target variable is loan status which tells us whether or not a loan was fully paid"
   ]
  },
  {
   "cell_type": "code",
   "execution_count": 7,
   "id": "dc1370ae",
   "metadata": {},
   "outputs": [
    {
     "data": {
      "text/plain": [
       "loan_status\n",
       "Charged Off           15377\n",
       "Current                  17\n",
       "Fully Paid            94567\n",
       "In Grace Period           2\n",
       "Late (16-30 days)         1\n",
       "Late (31-120 days)       36\n",
       "dtype: int64"
      ]
     },
     "execution_count": 7,
     "metadata": {},
     "output_type": "execute_result"
    }
   ],
   "source": [
    "df.groupby([\"loan_status\"]).size()"
   ]
  },
  {
   "cell_type": "markdown",
   "id": "7ce1b32b",
   "metadata": {},
   "source": [
    "## Selecting \"Fully Paid\" and \"Charged Off\" loans only\n"
   ]
  },
  {
   "cell_type": "code",
   "execution_count": 8,
   "id": "c27278e8",
   "metadata": {},
   "outputs": [],
   "source": [
    "df = df.loc[(df['loan_status'] == 'Fully Paid') | (df['loan_status'] == 'Charged Off')]"
   ]
  },
  {
   "cell_type": "markdown",
   "id": "369ed361",
   "metadata": {},
   "source": [
    "Another important feature is the LC assigned loan grade. \n",
    "Loan grades assigned by lending platforms indicate the loan's risk level, with higher grades representing lower risk and lower grades representing higher risk (e.g., A as the least risky and F as the riskiest)."
   ]
  },
  {
   "cell_type": "code",
   "execution_count": 9,
   "id": "6e963e9c",
   "metadata": {},
   "outputs": [
    {
     "data": {
      "text/plain": [
       "loan_status  grade\n",
       "Charged Off  A         1369\n",
       "             B         4264\n",
       "             C         5206\n",
       "             D         3165\n",
       "             E         1090\n",
       "             F          252\n",
       "             G           31\n",
       "Fully Paid   A        23485\n",
       "             B        33601\n",
       "             C        23939\n",
       "             D        10290\n",
       "             E         2700\n",
       "             F          501\n",
       "             G           51\n",
       "dtype: int64"
      ]
     },
     "execution_count": 9,
     "metadata": {},
     "output_type": "execute_result"
    }
   ],
   "source": [
    "#Checking how loan status varies by loan grade\n",
    "df.groupby([\"loan_status\", \"grade\"]).size()"
   ]
  },
  {
   "cell_type": "code",
   "execution_count": 10,
   "id": "197b369c",
   "metadata": {},
   "outputs": [
    {
     "data": {
      "text/html": [
       "<div>\n",
       "<style scoped>\n",
       "    .dataframe tbody tr th:only-of-type {\n",
       "        vertical-align: middle;\n",
       "    }\n",
       "\n",
       "    .dataframe tbody tr th {\n",
       "        vertical-align: top;\n",
       "    }\n",
       "\n",
       "    .dataframe thead th {\n",
       "        text-align: right;\n",
       "    }\n",
       "</style>\n",
       "<table border=\"1\" class=\"dataframe\">\n",
       "  <thead>\n",
       "    <tr style=\"text-align: right;\">\n",
       "      <th>loan_status</th>\n",
       "      <th>Charged Off</th>\n",
       "      <th>Fully Paid</th>\n",
       "      <th>defaultRate</th>\n",
       "    </tr>\n",
       "    <tr>\n",
       "      <th>grade</th>\n",
       "      <th></th>\n",
       "      <th></th>\n",
       "      <th></th>\n",
       "    </tr>\n",
       "  </thead>\n",
       "  <tbody>\n",
       "    <tr>\n",
       "      <th>A</th>\n",
       "      <td>1369</td>\n",
       "      <td>23485</td>\n",
       "      <td>5.51</td>\n",
       "    </tr>\n",
       "    <tr>\n",
       "      <th>B</th>\n",
       "      <td>4264</td>\n",
       "      <td>33601</td>\n",
       "      <td>11.26</td>\n",
       "    </tr>\n",
       "    <tr>\n",
       "      <th>C</th>\n",
       "      <td>5206</td>\n",
       "      <td>23939</td>\n",
       "      <td>17.86</td>\n",
       "    </tr>\n",
       "    <tr>\n",
       "      <th>D</th>\n",
       "      <td>3165</td>\n",
       "      <td>10290</td>\n",
       "      <td>23.52</td>\n",
       "    </tr>\n",
       "    <tr>\n",
       "      <th>E</th>\n",
       "      <td>1090</td>\n",
       "      <td>2700</td>\n",
       "      <td>28.76</td>\n",
       "    </tr>\n",
       "    <tr>\n",
       "      <th>F</th>\n",
       "      <td>252</td>\n",
       "      <td>501</td>\n",
       "      <td>33.47</td>\n",
       "    </tr>\n",
       "    <tr>\n",
       "      <th>G</th>\n",
       "      <td>31</td>\n",
       "      <td>51</td>\n",
       "      <td>37.80</td>\n",
       "    </tr>\n",
       "  </tbody>\n",
       "</table>\n",
       "</div>"
      ],
      "text/plain": [
       "loan_status  Charged Off  Fully Paid  defaultRate\n",
       "grade                                            \n",
       "A                   1369       23485         5.51\n",
       "B                   4264       33601        11.26\n",
       "C                   5206       23939        17.86\n",
       "D                   3165       10290        23.52\n",
       "E                   1090        2700        28.76\n",
       "F                    252         501        33.47\n",
       "G                     31          51        37.80"
      ]
     },
     "execution_count": 10,
     "metadata": {},
     "output_type": "execute_result"
    }
   ],
   "source": [
    "prop_table = df.groupby([\"grade\", \"loan_status\"]).size().unstack()\n",
    "prop_table['defaultRate'] = 100 * prop_table['Charged Off'] / prop_table.sum(axis=1)\n",
    "prop_table"
   ]
  },
  {
   "cell_type": "markdown",
   "id": "f63349d2",
   "metadata": {},
   "source": [
    "We can see that most of the loans in the dataset are in grades A, B, and C, with relatively fewer loans in grades D, E, F, and G. In addition, the majority of loans in all grades have been fully paid, with a small proportion of loans being charged off (default rate). However, we can also see that the proportion of charged off loans increases as the grade gets lower, indicating that loans with lower grades (higher risk) are more likely to result in default."
   ]
  },
  {
   "cell_type": "markdown",
   "id": "87a44cb8",
   "metadata": {},
   "source": [
    "We can also look further into loan subgrade"
   ]
  },
  {
   "cell_type": "code",
   "execution_count": 11,
   "id": "6e7a8fd2",
   "metadata": {},
   "outputs": [
    {
     "data": {
      "text/html": [
       "<div>\n",
       "<style scoped>\n",
       "    .dataframe tbody tr th:only-of-type {\n",
       "        vertical-align: middle;\n",
       "    }\n",
       "\n",
       "    .dataframe tbody tr th {\n",
       "        vertical-align: top;\n",
       "    }\n",
       "\n",
       "    .dataframe thead th {\n",
       "        text-align: right;\n",
       "    }\n",
       "</style>\n",
       "<table border=\"1\" class=\"dataframe\">\n",
       "  <thead>\n",
       "    <tr style=\"text-align: right;\">\n",
       "      <th></th>\n",
       "      <th>sub_grade</th>\n",
       "      <th>loan_status</th>\n",
       "      <th>count</th>\n",
       "    </tr>\n",
       "  </thead>\n",
       "  <tbody>\n",
       "    <tr>\n",
       "      <th>0</th>\n",
       "      <td>A1</td>\n",
       "      <td>Charged Off</td>\n",
       "      <td>104</td>\n",
       "    </tr>\n",
       "    <tr>\n",
       "      <th>1</th>\n",
       "      <td>A1</td>\n",
       "      <td>Fully Paid</td>\n",
       "      <td>3934</td>\n",
       "    </tr>\n",
       "    <tr>\n",
       "      <th>2</th>\n",
       "      <td>A2</td>\n",
       "      <td>Charged Off</td>\n",
       "      <td>161</td>\n",
       "    </tr>\n",
       "    <tr>\n",
       "      <th>3</th>\n",
       "      <td>A2</td>\n",
       "      <td>Fully Paid</td>\n",
       "      <td>3745</td>\n",
       "    </tr>\n",
       "    <tr>\n",
       "      <th>4</th>\n",
       "      <td>A3</td>\n",
       "      <td>Charged Off</td>\n",
       "      <td>193</td>\n",
       "    </tr>\n",
       "    <tr>\n",
       "      <th>...</th>\n",
       "      <td>...</td>\n",
       "      <td>...</td>\n",
       "      <td>...</td>\n",
       "    </tr>\n",
       "    <tr>\n",
       "      <th>64</th>\n",
       "      <td>G3</td>\n",
       "      <td>Charged Off</td>\n",
       "      <td>5</td>\n",
       "    </tr>\n",
       "    <tr>\n",
       "      <th>65</th>\n",
       "      <td>G3</td>\n",
       "      <td>Fully Paid</td>\n",
       "      <td>8</td>\n",
       "    </tr>\n",
       "    <tr>\n",
       "      <th>66</th>\n",
       "      <td>G4</td>\n",
       "      <td>Charged Off</td>\n",
       "      <td>3</td>\n",
       "    </tr>\n",
       "    <tr>\n",
       "      <th>67</th>\n",
       "      <td>G4</td>\n",
       "      <td>Fully Paid</td>\n",
       "      <td>7</td>\n",
       "    </tr>\n",
       "    <tr>\n",
       "      <th>68</th>\n",
       "      <td>G5</td>\n",
       "      <td>Fully Paid</td>\n",
       "      <td>1</td>\n",
       "    </tr>\n",
       "  </tbody>\n",
       "</table>\n",
       "<p>69 rows × 3 columns</p>\n",
       "</div>"
      ],
      "text/plain": [
       "   sub_grade  loan_status  count\n",
       "0         A1  Charged Off    104\n",
       "1         A1   Fully Paid   3934\n",
       "2         A2  Charged Off    161\n",
       "3         A2   Fully Paid   3745\n",
       "4         A3  Charged Off    193\n",
       "..       ...          ...    ...\n",
       "64        G3  Charged Off      5\n",
       "65        G3   Fully Paid      8\n",
       "66        G4  Charged Off      3\n",
       "67        G4   Fully Paid      7\n",
       "68        G5   Fully Paid      1\n",
       "\n",
       "[69 rows x 3 columns]"
      ]
     },
     "execution_count": 11,
     "metadata": {},
     "output_type": "execute_result"
    }
   ],
   "source": [
    "result = df.groupby([\"sub_grade\",\"loan_status\"]).size().reset_index(name='count')\n",
    "result"
   ]
  },
  {
   "cell_type": "markdown",
   "id": "a26013cb",
   "metadata": {},
   "source": [
    "Checking how the number of loans, payments, loan amount, interest rate varies by grade"
   ]
  },
  {
   "cell_type": "code",
   "execution_count": 12,
   "id": "38361ad1",
   "metadata": {},
   "outputs": [
    {
     "name": "stdout",
     "output_type": "stream",
     "text": [
      "Summary table:\n",
      "  grade  nLoans  defaults  defaultRate  avgInterest  avgLoanAMt  avgPmnt\n",
      "0     A   24854      1369         0.06         7.21    14349.12 15388.03\n",
      "1     B   37865      4264         0.11        10.86    12506.13 13633.98\n",
      "2     C   29145      5206         0.18        13.94    12047.90 13093.65\n",
      "3     D   13455      3165         0.24        17.26    11895.95 12831.49\n",
      "4     E    3790      1090         0.29        19.96    11924.06 12624.33\n",
      "5     F     753       252         0.33        23.86     9434.73  9952.69\n",
      "6     G      82        31         0.38        26.49    11550.30 11835.57\n"
     ]
    }
   ],
   "source": [
    "summary = df.groupby('grade').agg(\n",
    "    nLoans=('grade', 'size'),\n",
    "    defaults=('loan_status', lambda x: sum(x == 'Charged Off')),\n",
    "    defaultRate=('loan_status', lambda x: sum(x == 'Charged Off') / len(x)),\n",
    "    avgInterest=('int_rate', 'mean'),\n",
    "    avgLoanAMt=('loan_amnt', 'mean'),\n",
    "    avgPmnt=('total_pymnt', 'mean')\n",
    ").reset_index()\n",
    "\n",
    "print(\"Summary table:\")\n",
    "print(summary)"
   ]
  },
  {
   "cell_type": "markdown",
   "id": "a6a6aede",
   "metadata": {},
   "source": [
    "From the table, we can infer that the default rate increases as the loan grade goes from A to G. The average interest rate also increases as the loan grade goes from A to G, indicating that higher interest rates are charged on loans with higher risk of default. Additionally, we can see that the average loan amount is highest for grade A loans, and gradually decreases for lower grade loans."
   ]
  },
  {
   "cell_type": "code",
   "execution_count": 13,
   "id": "545cf88c",
   "metadata": {},
   "outputs": [
    {
     "data": {
      "text/html": [
       "<div>\n",
       "<style scoped>\n",
       "    .dataframe tbody tr th:only-of-type {\n",
       "        vertical-align: middle;\n",
       "    }\n",
       "\n",
       "    .dataframe tbody tr th {\n",
       "        vertical-align: top;\n",
       "    }\n",
       "\n",
       "    .dataframe thead th {\n",
       "        text-align: right;\n",
       "    }\n",
       "</style>\n",
       "<table border=\"1\" class=\"dataframe\">\n",
       "  <thead>\n",
       "    <tr style=\"text-align: right;\">\n",
       "      <th></th>\n",
       "      <th>loan_status</th>\n",
       "      <th>size</th>\n",
       "      <th>mean</th>\n",
       "    </tr>\n",
       "  </thead>\n",
       "  <tbody>\n",
       "    <tr>\n",
       "      <th>0</th>\n",
       "      <td>Charged Off</td>\n",
       "      <td>15377</td>\n",
       "      <td>12337.09</td>\n",
       "    </tr>\n",
       "    <tr>\n",
       "      <th>1</th>\n",
       "      <td>Fully Paid</td>\n",
       "      <td>94567</td>\n",
       "      <td>12741.34</td>\n",
       "    </tr>\n",
       "  </tbody>\n",
       "</table>\n",
       "</div>"
      ],
      "text/plain": [
       "   loan_status   size     mean\n",
       "0  Charged Off  15377 12337.09\n",
       "1   Fully Paid  94567 12741.34"
      ]
     },
     "execution_count": 13,
     "metadata": {},
     "output_type": "execute_result"
    }
   ],
   "source": [
    "#Relationship between loan amount and loan status\n",
    "df.groupby('loan_status')['loan_amnt'].agg(['size', 'mean']).reset_index()"
   ]
  },
  {
   "cell_type": "markdown",
   "id": "c1d5a299",
   "metadata": {},
   "source": [
    "###### Let's look at Fully Paid loans and see how the the time-to-full-payoff varies"
   ]
  },
  {
   "cell_type": "markdown",
   "id": "c7505f8f",
   "metadata": {},
   "source": [
    "For this, we can calculate the 'actual term' (issue-date to last-payment-date) for all loans:"
   ]
  },
  {
   "cell_type": "code",
   "execution_count": 14,
   "id": "34311606",
   "metadata": {},
   "outputs": [
    {
     "name": "stdout",
     "output_type": "stream",
     "text": [
      "object\n"
     ]
    }
   ],
   "source": [
    "print(df['last_pymnt_d'].dtypes)"
   ]
  },
  {
   "cell_type": "code",
   "execution_count": 15,
   "id": "196f2dcb",
   "metadata": {},
   "outputs": [
    {
     "data": {
      "text/plain": [
       "Mar-17    2908\n",
       "Mar-16    2789\n",
       "Oct-16    2493\n",
       "Jul-16    2457\n",
       "Aug-17    2444\n",
       "          ... \n",
       "Jun-12      19\n",
       "May-12      17\n",
       "Apr-12      11\n",
       "Mar-12       7\n",
       "Feb-12       1\n",
       "Name: last_pymnt_d, Length: 86, dtype: int64"
      ]
     },
     "execution_count": 15,
     "metadata": {},
     "output_type": "execute_result"
    }
   ],
   "source": [
    "df['last_pymnt_d'].value_counts(dropna= False)"
   ]
  },
  {
   "cell_type": "code",
   "execution_count": 16,
   "id": "db4bfff3",
   "metadata": {},
   "outputs": [],
   "source": [
    "df.dropna(subset=['last_pymnt_d'], inplace=True)"
   ]
  },
  {
   "cell_type": "code",
   "execution_count": 17,
   "id": "c2862675",
   "metadata": {},
   "outputs": [
    {
     "data": {
      "text/plain": [
       "dtype('O')"
      ]
     },
     "execution_count": 17,
     "metadata": {},
     "output_type": "execute_result"
    }
   ],
   "source": [
    "df['issue_d'].dtypes"
   ]
  },
  {
   "cell_type": "code",
   "execution_count": 18,
   "id": "db9f3da3",
   "metadata": {},
   "outputs": [
    {
     "data": {
      "text/plain": [
       "2015-10-01T00:00:00Z    6097\n",
       "2015-07-01T00:00:00Z    5719\n",
       "2015-12-01T00:00:00Z    5640\n",
       "2014-10-01T00:00:00Z    4981\n",
       "2015-11-01T00:00:00Z    4789\n",
       "2015-08-01T00:00:00Z    4471\n",
       "2015-04-01T00:00:00Z    4404\n",
       "2015-01-01T00:00:00Z    4397\n",
       "2015-05-01T00:00:00Z    4126\n",
       "2014-07-01T00:00:00Z    3708\n",
       "2015-06-01T00:00:00Z    3579\n",
       "2015-09-01T00:00:00Z    3420\n",
       "2014-11-01T00:00:00Z    3154\n",
       "2015-03-01T00:00:00Z    3056\n",
       "2015-02-01T00:00:00Z    2987\n",
       "2014-08-01T00:00:00Z    2520\n",
       "2014-05-01T00:00:00Z    2491\n",
       "2014-04-01T00:00:00Z    2405\n",
       "2014-03-01T00:00:00Z    2208\n",
       "2014-01-01T00:00:00Z    2172\n",
       "2014-06-01T00:00:00Z    2164\n",
       "2013-12-01T00:00:00Z    2116\n",
       "2014-02-01T00:00:00Z    2055\n",
       "2013-11-01T00:00:00Z    2020\n",
       "2013-10-01T00:00:00Z    1862\n",
       "2013-09-01T00:00:00Z    1701\n",
       "2013-07-01T00:00:00Z    1679\n",
       "2013-08-01T00:00:00Z    1676\n",
       "2013-06-01T00:00:00Z    1590\n",
       "2013-05-01T00:00:00Z    1450\n",
       "2014-09-01T00:00:00Z    1375\n",
       "2013-04-01T00:00:00Z    1303\n",
       "2014-12-01T00:00:00Z    1280\n",
       "2013-03-01T00:00:00Z    1206\n",
       "2013-02-01T00:00:00Z    1113\n",
       "2013-01-01T00:00:00Z    1015\n",
       "2012-10-01T00:00:00Z     978\n",
       "2012-09-01T00:00:00Z     933\n",
       "2012-12-01T00:00:00Z     909\n",
       "2012-11-01T00:00:00Z     901\n",
       "2012-08-01T00:00:00Z     773\n",
       "2012-07-01T00:00:00Z     700\n",
       "2012-06-01T00:00:00Z     583\n",
       "2012-04-01T00:00:00Z     495\n",
       "2012-05-01T00:00:00Z     493\n",
       "2012-03-01T00:00:00Z     435\n",
       "2012-02-01T00:00:00Z     389\n",
       "2012-01-01T00:00:00Z     356\n",
       "Name: issue_d, dtype: int64"
      ]
     },
     "execution_count": 18,
     "metadata": {},
     "output_type": "execute_result"
    }
   ],
   "source": [
    "df['issue_d'].value_counts(dropna= False)"
   ]
  },
  {
   "cell_type": "code",
   "execution_count": 19,
   "id": "9921b0f8",
   "metadata": {},
   "outputs": [],
   "source": [
    "df['issue_d'] = pd.to_datetime(df['issue_d'])\n",
    "df['issue_d'] = df['issue_d'].apply(lambda x: x.date())"
   ]
  },
  {
   "cell_type": "code",
   "execution_count": 20,
   "id": "8649c98a",
   "metadata": {},
   "outputs": [
    {
     "name": "stdout",
     "output_type": "stream",
     "text": [
      "object\n"
     ]
    }
   ],
   "source": [
    "print(df['issue_d'].dtypes)"
   ]
  },
  {
   "cell_type": "code",
   "execution_count": 21,
   "id": "dc7e6b16",
   "metadata": {},
   "outputs": [],
   "source": [
    "df['issue_d'] = pd.to_datetime(df['issue_d'])\n",
    "# print(df['issue_d'].dtypes)"
   ]
  },
  {
   "cell_type": "code",
   "execution_count": 22,
   "id": "fc7fdf13",
   "metadata": {},
   "outputs": [
    {
     "data": {
      "text/plain": [
       "2015-10-01    6097\n",
       "2015-07-01    5719\n",
       "2015-12-01    5640\n",
       "2014-10-01    4981\n",
       "2015-11-01    4789\n",
       "2015-08-01    4471\n",
       "2015-04-01    4404\n",
       "2015-01-01    4397\n",
       "2015-05-01    4126\n",
       "2014-07-01    3708\n",
       "Name: issue_d, dtype: int64"
      ]
     },
     "execution_count": 22,
     "metadata": {},
     "output_type": "execute_result"
    }
   ],
   "source": [
    "df['issue_d'].value_counts(dropna= False).head(10)"
   ]
  },
  {
   "cell_type": "code",
   "execution_count": 23,
   "id": "5d69d9c7",
   "metadata": {},
   "outputs": [],
   "source": [
    "def format_date(input_date):\n",
    "    dt = datetime.strptime(str(input_date), '%b-%y')\n",
    "    dt = dt.replace(day=1)\n",
    "    formatted_date = datetime(dt.year, dt.month, dt.day)\n",
    "    return formatted_date    "
   ]
  },
  {
   "cell_type": "code",
   "execution_count": 24,
   "id": "0c6a6563",
   "metadata": {},
   "outputs": [],
   "source": [
    "df['last_pymnt_d'] = df['last_pymnt_d'].apply(format_date)"
   ]
  },
  {
   "cell_type": "code",
   "execution_count": 25,
   "id": "c95938a6",
   "metadata": {},
   "outputs": [
    {
     "data": {
      "text/plain": [
       "2017-03-01    2908\n",
       "2016-03-01    2789\n",
       "2016-10-01    2493\n",
       "2016-07-01    2457\n",
       "2017-08-01    2444\n",
       "2016-06-01    2429\n",
       "2016-08-01    2409\n",
       "2016-02-01    2392\n",
       "2016-09-01    2387\n",
       "2016-12-01    2353\n",
       "Name: last_pymnt_d, dtype: int64"
      ]
     },
     "execution_count": 25,
     "metadata": {},
     "output_type": "execute_result"
    }
   ],
   "source": [
    "df['last_pymnt_d'].value_counts().head(10)"
   ]
  },
  {
   "cell_type": "code",
   "execution_count": 26,
   "id": "a3217a79",
   "metadata": {},
   "outputs": [
    {
     "name": "stdout",
     "output_type": "stream",
     "text": [
      "datetime64[ns]\n"
     ]
    }
   ],
   "source": [
    "print(df['last_pymnt_d'].dtypes)"
   ]
  },
  {
   "cell_type": "markdown",
   "id": "f99b85bd",
   "metadata": {},
   "source": [
    "### Lets look at recoveries"
   ]
  },
  {
   "cell_type": "code",
   "execution_count": 27,
   "id": "74af2825",
   "metadata": {},
   "outputs": [
    {
     "data": {
      "text/plain": [
       "loan_status\n",
       "Charged Off   14133922.88\n",
       "Fully Paid           0.00\n",
       "Name: recoveries, dtype: float64"
      ]
     },
     "execution_count": 27,
     "metadata": {},
     "output_type": "execute_result"
    }
   ],
   "source": [
    "df.groupby('loan_status')['recoveries'].sum()"
   ]
  },
  {
   "cell_type": "markdown",
   "id": "c498b582",
   "metadata": {},
   "source": [
    "All recoveries are only for Charged Off loans.\n",
    "We can also look at other variables that include recoveries. "
   ]
  },
  {
   "cell_type": "code",
   "execution_count": 28,
   "id": "e89104a7",
   "metadata": {},
   "outputs": [
    {
     "name": "stdout",
     "output_type": "stream",
     "text": [
      "Summary table:\n",
      "   loan_status  avgRec  totalrecPrncp  totalrecInterest  totalrecLateFee  \\\n",
      "0  Charged Off  923.36        5218.14           1763.97             3.80   \n",
      "1   Fully Paid    0.00       12741.03           1936.81             0.76   \n",
      "\n",
      "   avgInterest  avgFundAmt  avgLoanAMt  avgPmnt  \n",
      "0        13.86    12335.05    12335.29  7909.28  \n",
      "1        11.75    12741.03    12741.34 14678.60  \n"
     ]
    }
   ],
   "source": [
    "summary = df.groupby('loan_status').agg(\n",
    "    avgRec = ('recoveries' , 'mean'),\n",
    "    totalrecPrncp=('total_rec_prncp', 'mean'),\n",
    "    totalrecInterest=('total_rec_int', 'mean'),\n",
    "    totalrecLateFee=('total_rec_late_fee', 'mean'),\n",
    "    avgInterest=('int_rate', 'mean'),\n",
    "    avgFundAmt = ('funded_amnt', 'mean'),\n",
    "    avgLoanAMt=('loan_amnt', 'mean'),\n",
    "    avgPmnt=('total_pymnt', 'mean')\n",
    ").reset_index()\n",
    "\n",
    "print(\"Summary table:\")\n",
    "print(summary)"
   ]
  },
  {
   "cell_type": "markdown",
   "id": "64e46bbb",
   "metadata": {},
   "source": [
    "### Lets examine actual returns from a loan, and relation with int_rate\n",
    "#### (for example, can one expect a 5%/year return from a loan with 5% int_rate?)"
   ]
  },
  {
   "cell_type": "code",
   "execution_count": 29,
   "id": "f953952e",
   "metadata": {},
   "outputs": [
    {
     "data": {
      "text/html": [
       "<div>\n",
       "<style scoped>\n",
       "    .dataframe tbody tr th:only-of-type {\n",
       "        vertical-align: middle;\n",
       "    }\n",
       "\n",
       "    .dataframe tbody tr th {\n",
       "        vertical-align: top;\n",
       "    }\n",
       "\n",
       "    .dataframe thead th {\n",
       "        text-align: right;\n",
       "    }\n",
       "</style>\n",
       "<table border=\"1\" class=\"dataframe\">\n",
       "  <thead>\n",
       "    <tr style=\"text-align: right;\">\n",
       "      <th></th>\n",
       "      <th>loan_status</th>\n",
       "      <th>int_rate</th>\n",
       "      <th>funded_amnt</th>\n",
       "      <th>total_pymnt</th>\n",
       "    </tr>\n",
       "  </thead>\n",
       "  <tbody>\n",
       "    <tr>\n",
       "      <th>0</th>\n",
       "      <td>Fully Paid</td>\n",
       "      <td>22.99</td>\n",
       "      <td>4400</td>\n",
       "      <td>6119.55</td>\n",
       "    </tr>\n",
       "    <tr>\n",
       "      <th>1</th>\n",
       "      <td>Fully Paid</td>\n",
       "      <td>21.99</td>\n",
       "      <td>5850</td>\n",
       "      <td>6376.61</td>\n",
       "    </tr>\n",
       "    <tr>\n",
       "      <th>2</th>\n",
       "      <td>Fully Paid</td>\n",
       "      <td>6.24</td>\n",
       "      <td>5000</td>\n",
       "      <td>5496.04</td>\n",
       "    </tr>\n",
       "    <tr>\n",
       "      <th>3</th>\n",
       "      <td>Fully Paid</td>\n",
       "      <td>14.99</td>\n",
       "      <td>1600</td>\n",
       "      <td>1839.64</td>\n",
       "    </tr>\n",
       "    <tr>\n",
       "      <th>4</th>\n",
       "      <td>Fully Paid</td>\n",
       "      <td>9.17</td>\n",
       "      <td>16000</td>\n",
       "      <td>18128.41</td>\n",
       "    </tr>\n",
       "    <tr>\n",
       "      <th>5</th>\n",
       "      <td>Fully Paid</td>\n",
       "      <td>8.18</td>\n",
       "      <td>3000</td>\n",
       "      <td>3393.56</td>\n",
       "    </tr>\n",
       "    <tr>\n",
       "      <th>6</th>\n",
       "      <td>Fully Paid</td>\n",
       "      <td>10.99</td>\n",
       "      <td>9000</td>\n",
       "      <td>10592.48</td>\n",
       "    </tr>\n",
       "    <tr>\n",
       "      <th>7</th>\n",
       "      <td>Fully Paid</td>\n",
       "      <td>8.90</td>\n",
       "      <td>12000</td>\n",
       "      <td>13492.75</td>\n",
       "    </tr>\n",
       "    <tr>\n",
       "      <th>8</th>\n",
       "      <td>Fully Paid</td>\n",
       "      <td>7.26</td>\n",
       "      <td>7000</td>\n",
       "      <td>7805.34</td>\n",
       "    </tr>\n",
       "    <tr>\n",
       "      <th>9</th>\n",
       "      <td>Fully Paid</td>\n",
       "      <td>6.99</td>\n",
       "      <td>18000</td>\n",
       "      <td>19780.32</td>\n",
       "    </tr>\n",
       "  </tbody>\n",
       "</table>\n",
       "</div>"
      ],
      "text/plain": [
       "  loan_status  int_rate  funded_amnt  total_pymnt\n",
       "0  Fully Paid     22.99         4400      6119.55\n",
       "1  Fully Paid     21.99         5850      6376.61\n",
       "2  Fully Paid      6.24         5000      5496.04\n",
       "3  Fully Paid     14.99         1600      1839.64\n",
       "4  Fully Paid      9.17        16000     18128.41\n",
       "5  Fully Paid      8.18         3000      3393.56\n",
       "6  Fully Paid     10.99         9000     10592.48\n",
       "7  Fully Paid      8.90        12000     13492.75\n",
       "8  Fully Paid      7.26         7000      7805.34\n",
       "9  Fully Paid      6.99        18000     19780.32"
      ]
     },
     "execution_count": 29,
     "metadata": {},
     "output_type": "execute_result"
    }
   ],
   "source": [
    "df[['loan_status', 'int_rate', 'funded_amnt', 'total_pymnt']].head(10)"
   ]
  },
  {
   "cell_type": "code",
   "execution_count": 30,
   "id": "9ca565fd",
   "metadata": {},
   "outputs": [],
   "source": [
    "df['annRet'] = ((df['total_pymnt'] - df['funded_amnt'])/ df['funded_amnt'])*(12/36)*100"
   ]
  },
  {
   "cell_type": "code",
   "execution_count": 31,
   "id": "5838119f",
   "metadata": {},
   "outputs": [
    {
     "data": {
      "text/html": [
       "<div>\n",
       "<style scoped>\n",
       "    .dataframe tbody tr th:only-of-type {\n",
       "        vertical-align: middle;\n",
       "    }\n",
       "\n",
       "    .dataframe tbody tr th {\n",
       "        vertical-align: top;\n",
       "    }\n",
       "\n",
       "    .dataframe thead th {\n",
       "        text-align: right;\n",
       "    }\n",
       "</style>\n",
       "<table border=\"1\" class=\"dataframe\">\n",
       "  <thead>\n",
       "    <tr style=\"text-align: right;\">\n",
       "      <th></th>\n",
       "      <th>nLoans</th>\n",
       "      <th>defaults</th>\n",
       "      <th>avgInterest</th>\n",
       "      <th>stdInterest</th>\n",
       "      <th>avgLoanAMt</th>\n",
       "      <th>avgPmnt</th>\n",
       "      <th>avgRet</th>\n",
       "      <th>stdRet</th>\n",
       "      <th>minRet</th>\n",
       "      <th>maxRet</th>\n",
       "    </tr>\n",
       "    <tr>\n",
       "      <th>grade</th>\n",
       "      <th></th>\n",
       "      <th></th>\n",
       "      <th></th>\n",
       "      <th></th>\n",
       "      <th></th>\n",
       "      <th></th>\n",
       "      <th></th>\n",
       "      <th></th>\n",
       "      <th></th>\n",
       "      <th></th>\n",
       "    </tr>\n",
       "  </thead>\n",
       "  <tbody>\n",
       "    <tr>\n",
       "      <th>A</th>\n",
       "      <td>24847</td>\n",
       "      <td>1362</td>\n",
       "      <td>7.21</td>\n",
       "      <td>0.97</td>\n",
       "      <td>14349.68</td>\n",
       "      <td>15391.25</td>\n",
       "      <td>2.35</td>\n",
       "      <td>4.14</td>\n",
       "      <td>-32.34</td>\n",
       "      <td>5.80</td>\n",
       "    </tr>\n",
       "    <tr>\n",
       "      <th>B</th>\n",
       "      <td>37851</td>\n",
       "      <td>4250</td>\n",
       "      <td>10.86</td>\n",
       "      <td>1.48</td>\n",
       "      <td>12506.34</td>\n",
       "      <td>13638.80</td>\n",
       "      <td>2.96</td>\n",
       "      <td>6.18</td>\n",
       "      <td>-32.28</td>\n",
       "      <td>13.82</td>\n",
       "    </tr>\n",
       "    <tr>\n",
       "      <th>C</th>\n",
       "      <td>29130</td>\n",
       "      <td>5191</td>\n",
       "      <td>13.94</td>\n",
       "      <td>1.23</td>\n",
       "      <td>12049.12</td>\n",
       "      <td>13100.00</td>\n",
       "      <td>2.87</td>\n",
       "      <td>8.12</td>\n",
       "      <td>-32.27</td>\n",
       "      <td>10.53</td>\n",
       "    </tr>\n",
       "    <tr>\n",
       "      <th>D</th>\n",
       "      <td>13430</td>\n",
       "      <td>3140</td>\n",
       "      <td>17.26</td>\n",
       "      <td>1.22</td>\n",
       "      <td>11887.56</td>\n",
       "      <td>12852.04</td>\n",
       "      <td>2.86</td>\n",
       "      <td>9.93</td>\n",
       "      <td>-32.21</td>\n",
       "      <td>11.95</td>\n",
       "    </tr>\n",
       "    <tr>\n",
       "      <th>E</th>\n",
       "      <td>3782</td>\n",
       "      <td>1082</td>\n",
       "      <td>19.96</td>\n",
       "      <td>1.40</td>\n",
       "      <td>11930.66</td>\n",
       "      <td>12649.64</td>\n",
       "      <td>2.60</td>\n",
       "      <td>11.27</td>\n",
       "      <td>-32.17</td>\n",
       "      <td>14.03</td>\n",
       "    </tr>\n",
       "    <tr>\n",
       "      <th>F</th>\n",
       "      <td>752</td>\n",
       "      <td>251</td>\n",
       "      <td>23.86</td>\n",
       "      <td>0.95</td>\n",
       "      <td>9431.95</td>\n",
       "      <td>9963.43</td>\n",
       "      <td>2.99</td>\n",
       "      <td>12.89</td>\n",
       "      <td>-32.02</td>\n",
       "      <td>18.03</td>\n",
       "    </tr>\n",
       "    <tr>\n",
       "      <th>G</th>\n",
       "      <td>82</td>\n",
       "      <td>31</td>\n",
       "      <td>26.49</td>\n",
       "      <td>0.96</td>\n",
       "      <td>11550.30</td>\n",
       "      <td>11835.57</td>\n",
       "      <td>1.36</td>\n",
       "      <td>14.92</td>\n",
       "      <td>-28.56</td>\n",
       "      <td>16.95</td>\n",
       "    </tr>\n",
       "  </tbody>\n",
       "</table>\n",
       "</div>"
      ],
      "text/plain": [
       "       nLoans  defaults  avgInterest  stdInterest  avgLoanAMt  avgPmnt  \\\n",
       "grade                                                                    \n",
       "A       24847      1362         7.21         0.97    14349.68 15391.25   \n",
       "B       37851      4250        10.86         1.48    12506.34 13638.80   \n",
       "C       29130      5191        13.94         1.23    12049.12 13100.00   \n",
       "D       13430      3140        17.26         1.22    11887.56 12852.04   \n",
       "E        3782      1082        19.96         1.40    11930.66 12649.64   \n",
       "F         752       251        23.86         0.95     9431.95  9963.43   \n",
       "G          82        31        26.49         0.96    11550.30 11835.57   \n",
       "\n",
       "       avgRet  stdRet  minRet  maxRet  \n",
       "grade                                  \n",
       "A        2.35    4.14  -32.34    5.80  \n",
       "B        2.96    6.18  -32.28   13.82  \n",
       "C        2.87    8.12  -32.27   10.53  \n",
       "D        2.86    9.93  -32.21   11.95  \n",
       "E        2.60   11.27  -32.17   14.03  \n",
       "F        2.99   12.89  -32.02   18.03  \n",
       "G        1.36   14.92  -28.56   16.95  "
      ]
     },
     "execution_count": 31,
     "metadata": {},
     "output_type": "execute_result"
    }
   ],
   "source": [
    "summary_df = df.groupby('grade').agg(\n",
    "    nLoans=('grade', 'size'),  # Number of loans\n",
    "    defaults=('loan_status', lambda x: sum(x == 'Charged Off')),  # Count of defaulted loans\n",
    "    avgInterest=('int_rate', 'mean'),  # Average interest rate\n",
    "    stdInterest=('int_rate', 'std'),  # Standard deviation of interest rate\n",
    "    avgLoanAMt=('loan_amnt', 'mean'),  # Average loan amount\n",
    "    avgPmnt=('total_pymnt', 'mean'),  # Average total payment\n",
    "    avgRet=('annRet', 'mean'),  # Average annual return\n",
    "    stdRet=('annRet', 'std'),  # Standard deviation of annual return\n",
    "    minRet=('annRet', 'min'),  # Minimum annual return\n",
    "    maxRet=('annRet', 'max')  # Maximum annual return\n",
    ")\n",
    "\n",
    "summary_df\n"
   ]
  },
  {
   "cell_type": "markdown",
   "id": "9b11eb9e",
   "metadata": {},
   "source": [
    "Where do the negative numbers for minRet come from?"
   ]
  },
  {
   "cell_type": "code",
   "execution_count": 32,
   "id": "e97b93c4",
   "metadata": {},
   "outputs": [
    {
     "data": {
      "text/html": [
       "<div>\n",
       "<style scoped>\n",
       "    .dataframe tbody tr th:only-of-type {\n",
       "        vertical-align: middle;\n",
       "    }\n",
       "\n",
       "    .dataframe tbody tr th {\n",
       "        vertical-align: top;\n",
       "    }\n",
       "\n",
       "    .dataframe thead th {\n",
       "        text-align: right;\n",
       "    }\n",
       "</style>\n",
       "<table border=\"1\" class=\"dataframe\">\n",
       "  <thead>\n",
       "    <tr style=\"text-align: right;\">\n",
       "      <th></th>\n",
       "      <th>loan_status</th>\n",
       "      <th>int_rate</th>\n",
       "      <th>funded_amnt</th>\n",
       "      <th>total_pymnt</th>\n",
       "      <th>annRet</th>\n",
       "    </tr>\n",
       "  </thead>\n",
       "  <tbody>\n",
       "    <tr>\n",
       "      <th>14</th>\n",
       "      <td>Charged Off</td>\n",
       "      <td>13.35</td>\n",
       "      <td>6500</td>\n",
       "      <td>2701.43</td>\n",
       "      <td>-19.48</td>\n",
       "    </tr>\n",
       "    <tr>\n",
       "      <th>19</th>\n",
       "      <td>Charged Off</td>\n",
       "      <td>13.35</td>\n",
       "      <td>15000</td>\n",
       "      <td>9898.31</td>\n",
       "      <td>-11.34</td>\n",
       "    </tr>\n",
       "    <tr>\n",
       "      <th>20</th>\n",
       "      <td>Charged Off</td>\n",
       "      <td>13.98</td>\n",
       "      <td>9000</td>\n",
       "      <td>6765.44</td>\n",
       "      <td>-8.28</td>\n",
       "    </tr>\n",
       "    <tr>\n",
       "      <th>22</th>\n",
       "      <td>Charged Off</td>\n",
       "      <td>10.15</td>\n",
       "      <td>5000</td>\n",
       "      <td>3012.89</td>\n",
       "      <td>-13.25</td>\n",
       "    </tr>\n",
       "    <tr>\n",
       "      <th>38</th>\n",
       "      <td>Charged Off</td>\n",
       "      <td>17.86</td>\n",
       "      <td>10575</td>\n",
       "      <td>5295.31</td>\n",
       "      <td>-16.64</td>\n",
       "    </tr>\n",
       "    <tr>\n",
       "      <th>40</th>\n",
       "      <td>Charged Off</td>\n",
       "      <td>7.90</td>\n",
       "      <td>27000</td>\n",
       "      <td>3971.19</td>\n",
       "      <td>-28.43</td>\n",
       "    </tr>\n",
       "    <tr>\n",
       "      <th>44</th>\n",
       "      <td>Charged Off</td>\n",
       "      <td>11.99</td>\n",
       "      <td>35000</td>\n",
       "      <td>15275.41</td>\n",
       "      <td>-18.79</td>\n",
       "    </tr>\n",
       "    <tr>\n",
       "      <th>52</th>\n",
       "      <td>Charged Off</td>\n",
       "      <td>18.92</td>\n",
       "      <td>3750</td>\n",
       "      <td>1164.76</td>\n",
       "      <td>-22.98</td>\n",
       "    </tr>\n",
       "    <tr>\n",
       "      <th>54</th>\n",
       "      <td>Charged Off</td>\n",
       "      <td>18.25</td>\n",
       "      <td>3000</td>\n",
       "      <td>1088.40</td>\n",
       "      <td>-21.24</td>\n",
       "    </tr>\n",
       "    <tr>\n",
       "      <th>55</th>\n",
       "      <td>Charged Off</td>\n",
       "      <td>9.17</td>\n",
       "      <td>10000</td>\n",
       "      <td>6051.92</td>\n",
       "      <td>-13.16</td>\n",
       "    </tr>\n",
       "  </tbody>\n",
       "</table>\n",
       "</div>"
      ],
      "text/plain": [
       "    loan_status  int_rate  funded_amnt  total_pymnt  annRet\n",
       "14  Charged Off     13.35         6500      2701.43  -19.48\n",
       "19  Charged Off     13.35        15000      9898.31  -11.34\n",
       "20  Charged Off     13.98         9000      6765.44   -8.28\n",
       "22  Charged Off     10.15         5000      3012.89  -13.25\n",
       "38  Charged Off     17.86        10575      5295.31  -16.64\n",
       "40  Charged Off      7.90        27000      3971.19  -28.43\n",
       "44  Charged Off     11.99        35000     15275.41  -18.79\n",
       "52  Charged Off     18.92         3750      1164.76  -22.98\n",
       "54  Charged Off     18.25         3000      1088.40  -21.24\n",
       "55  Charged Off      9.17        10000      6051.92  -13.16"
      ]
     },
     "execution_count": 32,
     "metadata": {},
     "output_type": "execute_result"
    }
   ],
   "source": [
    "neg_ret = df[df['annRet'] < 0][['loan_status', 'int_rate', 'funded_amnt', 'total_pymnt', 'annRet']]\n",
    "neg_ret.head(10)"
   ]
  },
  {
   "cell_type": "code",
   "execution_count": 33,
   "id": "f0566f52",
   "metadata": {},
   "outputs": [
    {
     "data": {
      "text/plain": [
       "13474"
      ]
     },
     "execution_count": 33,
     "metadata": {},
     "output_type": "execute_result"
    }
   ],
   "source": [
    "(neg_ret['loan_status'] == 'Charged Off').sum()"
   ]
  },
  {
   "cell_type": "code",
   "execution_count": 34,
   "id": "b429b112",
   "metadata": {},
   "outputs": [
    {
     "name": "stdout",
     "output_type": "stream",
     "text": [
      "       nLoans  defaults  avgInterest  stdInterest  avgLoanAMt  avgPmnt  \\\n",
      "grade                                                                    \n",
      "A       23485         0         7.19         0.98    14384.25 15773.16   \n",
      "B       33601         0        10.84         1.48    12545.61 14356.66   \n",
      "C       23939         0        13.93         1.23    12039.88 14246.52   \n",
      "D       10290         0        17.26         1.24    11746.00 14402.37   \n",
      "E        2700         0        19.97         1.40    11602.05 14548.56   \n",
      "F         501         0        23.87         0.93     9134.08 11975.49   \n",
      "G          51         0        26.52         1.02    10992.16 14740.94   \n",
      "\n",
      "       avgRet  stdRet  minRet  maxRet  \n",
      "grade                                  \n",
      "A        3.19    1.00    0.00    5.19  \n",
      "B        4.80    1.61    0.00    8.18  \n",
      "C        6.06    2.13    0.01   10.53  \n",
      "D        7.53    2.73    0.00   11.95  \n",
      "E        8.64    3.35    0.02   14.03  \n",
      "F       10.56    4.13    0.03   18.03  \n",
      "G       11.62    4.79    0.42   16.95  \n"
     ]
    }
   ],
   "source": [
    "fully_paid_summary = df[df['loan_status'] == 'Fully Paid'].groupby('grade').agg(\n",
    "    nLoans=('grade', 'size'),\n",
    "    defaults=('loan_status', lambda x: sum(x == 'Charged Off')),\n",
    "    avgInterest=('int_rate', 'mean'),\n",
    "    stdInterest=('int_rate', 'std'),\n",
    "    avgLoanAMt=('loan_amnt', 'mean'),\n",
    "    avgPmnt=('total_pymnt', 'mean'),\n",
    "    avgRet=('annRet', 'mean'),\n",
    "    stdRet=('annRet', 'std'),\n",
    "    minRet=('annRet', 'min'),\n",
    "    maxRet=('annRet', 'max')\n",
    ")\n",
    "\n",
    "print(fully_paid_summary)\n"
   ]
  },
  {
   "cell_type": "code",
   "execution_count": 35,
   "id": "75b171f4",
   "metadata": {},
   "outputs": [
    {
     "name": "stdout",
     "output_type": "stream",
     "text": [
      "       nLoans  defaults  avgInterest  stdInterest  avgLoanAMt  avgPmnt  \\\n",
      "grade                                                                    \n",
      "A        1362      1362         7.49         0.88    13753.71  8805.80   \n",
      "B        4250      4250        11.04         1.46    12195.92  7963.38   \n",
      "C        5191      5191        13.97         1.22    12091.72  7812.69   \n",
      "D        3140      3140        17.23         1.17    12351.45  7771.48   \n",
      "E        1082      1082        19.95         1.40    12750.69  7911.10   \n",
      "F         251       251        23.85         1.00    10026.49  5947.32   \n",
      "G          31        31        26.43         0.85    12468.55  7055.76   \n",
      "\n",
      "       avgRet  stdRet  minRet  maxRet  \n",
      "grade                                  \n",
      "A      -12.03    8.77  -32.34    5.80  \n",
      "B      -11.62    8.94  -32.28   13.82  \n",
      "C      -11.84    9.26  -32.27    9.54  \n",
      "D      -12.42    9.63  -32.21   11.34  \n",
      "E      -12.47    9.86  -32.17   11.68  \n",
      "F      -12.10   11.02  -32.02   14.40  \n",
      "G      -15.52    9.45  -28.56    4.86  \n"
     ]
    }
   ],
   "source": [
    "charged_off_summary = df[df['loan_status'] == 'Charged Off'].groupby('grade').agg(\n",
    "    nLoans=('grade', 'size'),\n",
    "    defaults=('loan_status', lambda x: sum(x == 'Charged Off')),\n",
    "    avgInterest=('int_rate', 'mean'),\n",
    "    stdInterest=('int_rate', 'std'),\n",
    "    avgLoanAMt=('loan_amnt', 'mean'),\n",
    "    avgPmnt=('total_pymnt', 'mean'),\n",
    "    avgRet=('annRet', 'mean'),\n",
    "    stdRet=('annRet', 'std'),\n",
    "    minRet=('annRet', 'min'),\n",
    "    maxRet=('annRet', 'max')\n",
    ")\n",
    "\n",
    "print(charged_off_summary)\n"
   ]
  },
  {
   "cell_type": "markdown",
   "id": "34f10342",
   "metadata": {},
   "source": [
    "Are some loans paid back early? what proportion?  \n",
    "  - calculate the actual loan term, i.e. the time by which a loan is fully paid back\n",
    "What is the actual return from investment in a loan?"
   ]
  },
  {
   "cell_type": "code",
   "execution_count": 36,
   "id": "6b67ea68",
   "metadata": {},
   "outputs": [],
   "source": [
    "df['actualTerm'] = (df['last_pymnt_d'] - df['issue_d']).dt.days / 365 #duration in years"
   ]
  },
  {
   "cell_type": "code",
   "execution_count": 37,
   "id": "6c3e1b35",
   "metadata": {},
   "outputs": [
    {
     "data": {
      "text/plain": [
       "4.42      1\n",
       "3.75      1\n",
       "3.59      1\n",
       "3.58      1\n",
       "3.51      1\n",
       "       ... \n",
       "0.08    709\n",
       "0.08    382\n",
       "0.08      5\n",
       "0.08     68\n",
       "0.00    137\n",
       "Name: actualTerm, Length: 187, dtype: int64"
      ]
     },
     "execution_count": 37,
     "metadata": {},
     "output_type": "execute_result"
    }
   ],
   "source": [
    "df['actualTerm'].value_counts().sort_index(ascending = False)"
   ]
  },
  {
   "cell_type": "code",
   "execution_count": 38,
   "id": "85df9a97",
   "metadata": {},
   "outputs": [
    {
     "data": {
      "text/plain": [
       "dtype('float64')"
      ]
     },
     "execution_count": 38,
     "metadata": {},
     "output_type": "execute_result"
    }
   ],
   "source": [
    "df['actualTerm'].dtypes"
   ]
  },
  {
   "cell_type": "markdown",
   "id": "75c0ae59",
   "metadata": {},
   "source": [
    "For \"Charged Off \" loans, the actual term we have calculated would be incorrect because they are not paid back fully by the end of the 3-year term. So for those cases, we can consider the actual term as 3 years."
   ]
  },
  {
   "cell_type": "code",
   "execution_count": 39,
   "id": "759aea12",
   "metadata": {},
   "outputs": [],
   "source": [
    "df.loc[df[\"loan_status\"] == \"Charged Off\" , \"actualTerm\"] = 3.0"
   ]
  },
  {
   "cell_type": "markdown",
   "id": "5260ba4b",
   "metadata": {},
   "source": [
    "We can now calculate the actual return based on this actual term."
   ]
  },
  {
   "cell_type": "code",
   "execution_count": 40,
   "id": "f333f71d",
   "metadata": {},
   "outputs": [],
   "source": [
    "# Calculating the return on investment per year\n",
    "df['actualReturn'] = ((df['total_pymnt'] - df['funded_amnt']) / df['funded_amnt']) * 100 / df['actualTerm']\n",
    "df.loc[df['actualTerm'] <= 0, 'actualReturn'] = 0"
   ]
  },
  {
   "cell_type": "code",
   "execution_count": 41,
   "id": "edeb75f9",
   "metadata": {},
   "outputs": [
    {
     "data": {
      "text/html": [
       "<div>\n",
       "<style scoped>\n",
       "    .dataframe tbody tr th:only-of-type {\n",
       "        vertical-align: middle;\n",
       "    }\n",
       "\n",
       "    .dataframe tbody tr th {\n",
       "        vertical-align: top;\n",
       "    }\n",
       "\n",
       "    .dataframe thead th {\n",
       "        text-align: right;\n",
       "    }\n",
       "</style>\n",
       "<table border=\"1\" class=\"dataframe\">\n",
       "  <thead>\n",
       "    <tr style=\"text-align: right;\">\n",
       "      <th></th>\n",
       "      <th>loan_status</th>\n",
       "      <th>funded_amnt</th>\n",
       "      <th>int_rate</th>\n",
       "      <th>total_pymnt</th>\n",
       "      <th>annRet</th>\n",
       "      <th>actualTerm</th>\n",
       "      <th>actualReturn</th>\n",
       "    </tr>\n",
       "  </thead>\n",
       "  <tbody>\n",
       "    <tr>\n",
       "      <th>0</th>\n",
       "      <td>Fully Paid</td>\n",
       "      <td>4400</td>\n",
       "      <td>22.99</td>\n",
       "      <td>6119.55</td>\n",
       "      <td>13.03</td>\n",
       "      <td>3.00</td>\n",
       "      <td>13.02</td>\n",
       "    </tr>\n",
       "    <tr>\n",
       "      <th>1</th>\n",
       "      <td>Fully Paid</td>\n",
       "      <td>5850</td>\n",
       "      <td>21.99</td>\n",
       "      <td>6376.61</td>\n",
       "      <td>3.00</td>\n",
       "      <td>0.83</td>\n",
       "      <td>10.81</td>\n",
       "    </tr>\n",
       "    <tr>\n",
       "      <th>2</th>\n",
       "      <td>Fully Paid</td>\n",
       "      <td>5000</td>\n",
       "      <td>6.24</td>\n",
       "      <td>5496.04</td>\n",
       "      <td>3.31</td>\n",
       "      <td>3.00</td>\n",
       "      <td>3.30</td>\n",
       "    </tr>\n",
       "    <tr>\n",
       "      <th>3</th>\n",
       "      <td>Fully Paid</td>\n",
       "      <td>1600</td>\n",
       "      <td>14.99</td>\n",
       "      <td>1839.64</td>\n",
       "      <td>4.99</td>\n",
       "      <td>1.08</td>\n",
       "      <td>13.81</td>\n",
       "    </tr>\n",
       "    <tr>\n",
       "      <th>4</th>\n",
       "      <td>Fully Paid</td>\n",
       "      <td>16000</td>\n",
       "      <td>9.17</td>\n",
       "      <td>18128.41</td>\n",
       "      <td>4.43</td>\n",
       "      <td>2.09</td>\n",
       "      <td>6.37</td>\n",
       "    </tr>\n",
       "    <tr>\n",
       "      <th>5</th>\n",
       "      <td>Fully Paid</td>\n",
       "      <td>3000</td>\n",
       "      <td>8.18</td>\n",
       "      <td>3393.56</td>\n",
       "      <td>4.37</td>\n",
       "      <td>2.92</td>\n",
       "      <td>4.50</td>\n",
       "    </tr>\n",
       "    <tr>\n",
       "      <th>6</th>\n",
       "      <td>Fully Paid</td>\n",
       "      <td>9000</td>\n",
       "      <td>10.99</td>\n",
       "      <td>10592.48</td>\n",
       "      <td>5.90</td>\n",
       "      <td>3.00</td>\n",
       "      <td>5.89</td>\n",
       "    </tr>\n",
       "    <tr>\n",
       "      <th>7</th>\n",
       "      <td>Fully Paid</td>\n",
       "      <td>12000</td>\n",
       "      <td>8.90</td>\n",
       "      <td>13492.75</td>\n",
       "      <td>4.15</td>\n",
       "      <td>1.92</td>\n",
       "      <td>6.50</td>\n",
       "    </tr>\n",
       "    <tr>\n",
       "      <th>8</th>\n",
       "      <td>Fully Paid</td>\n",
       "      <td>7000</td>\n",
       "      <td>7.26</td>\n",
       "      <td>7805.34</td>\n",
       "      <td>3.83</td>\n",
       "      <td>3.00</td>\n",
       "      <td>3.83</td>\n",
       "    </tr>\n",
       "    <tr>\n",
       "      <th>9</th>\n",
       "      <td>Fully Paid</td>\n",
       "      <td>18000</td>\n",
       "      <td>6.99</td>\n",
       "      <td>19780.32</td>\n",
       "      <td>3.30</td>\n",
       "      <td>2.00</td>\n",
       "      <td>4.94</td>\n",
       "    </tr>\n",
       "  </tbody>\n",
       "</table>\n",
       "</div>"
      ],
      "text/plain": [
       "  loan_status  funded_amnt  int_rate  total_pymnt  annRet  actualTerm  \\\n",
       "0  Fully Paid         4400     22.99      6119.55   13.03        3.00   \n",
       "1  Fully Paid         5850     21.99      6376.61    3.00        0.83   \n",
       "2  Fully Paid         5000      6.24      5496.04    3.31        3.00   \n",
       "3  Fully Paid         1600     14.99      1839.64    4.99        1.08   \n",
       "4  Fully Paid        16000      9.17     18128.41    4.43        2.09   \n",
       "5  Fully Paid         3000      8.18      3393.56    4.37        2.92   \n",
       "6  Fully Paid         9000     10.99     10592.48    5.90        3.00   \n",
       "7  Fully Paid        12000      8.90     13492.75    4.15        1.92   \n",
       "8  Fully Paid         7000      7.26      7805.34    3.83        3.00   \n",
       "9  Fully Paid        18000      6.99     19780.32    3.30        2.00   \n",
       "\n",
       "   actualReturn  \n",
       "0         13.02  \n",
       "1         10.81  \n",
       "2          3.30  \n",
       "3         13.81  \n",
       "4          6.37  \n",
       "5          4.50  \n",
       "6          5.89  \n",
       "7          6.50  \n",
       "8          3.83  \n",
       "9          4.94  "
      ]
     },
     "execution_count": 41,
     "metadata": {},
     "output_type": "execute_result"
    }
   ],
   "source": [
    "df[['loan_status', 'funded_amnt', 'int_rate', 'total_pymnt', 'annRet', 'actualTerm', 'actualReturn']].head(10)"
   ]
  },
  {
   "cell_type": "code",
   "execution_count": 42,
   "id": "ddeb5a4a",
   "metadata": {},
   "outputs": [
    {
     "data": {
      "text/html": [
       "<div>\n",
       "<style scoped>\n",
       "    .dataframe tbody tr th:only-of-type {\n",
       "        vertical-align: middle;\n",
       "    }\n",
       "\n",
       "    .dataframe tbody tr th {\n",
       "        vertical-align: top;\n",
       "    }\n",
       "\n",
       "    .dataframe thead th {\n",
       "        text-align: right;\n",
       "    }\n",
       "</style>\n",
       "<table border=\"1\" class=\"dataframe\">\n",
       "  <thead>\n",
       "    <tr style=\"text-align: right;\">\n",
       "      <th></th>\n",
       "      <th>loan_status</th>\n",
       "      <th>funded_amnt</th>\n",
       "      <th>int_rate</th>\n",
       "      <th>total_pymnt</th>\n",
       "      <th>annRet</th>\n",
       "      <th>actualTerm</th>\n",
       "      <th>actualReturn</th>\n",
       "    </tr>\n",
       "  </thead>\n",
       "  <tbody>\n",
       "    <tr>\n",
       "      <th>14</th>\n",
       "      <td>Charged Off</td>\n",
       "      <td>6500</td>\n",
       "      <td>13.35</td>\n",
       "      <td>2701.43</td>\n",
       "      <td>-19.48</td>\n",
       "      <td>3.00</td>\n",
       "      <td>-19.48</td>\n",
       "    </tr>\n",
       "    <tr>\n",
       "      <th>19</th>\n",
       "      <td>Charged Off</td>\n",
       "      <td>15000</td>\n",
       "      <td>13.35</td>\n",
       "      <td>9898.31</td>\n",
       "      <td>-11.34</td>\n",
       "      <td>3.00</td>\n",
       "      <td>-11.34</td>\n",
       "    </tr>\n",
       "    <tr>\n",
       "      <th>20</th>\n",
       "      <td>Charged Off</td>\n",
       "      <td>9000</td>\n",
       "      <td>13.98</td>\n",
       "      <td>6765.44</td>\n",
       "      <td>-8.28</td>\n",
       "      <td>3.00</td>\n",
       "      <td>-8.28</td>\n",
       "    </tr>\n",
       "    <tr>\n",
       "      <th>22</th>\n",
       "      <td>Charged Off</td>\n",
       "      <td>5000</td>\n",
       "      <td>10.15</td>\n",
       "      <td>3012.89</td>\n",
       "      <td>-13.25</td>\n",
       "      <td>3.00</td>\n",
       "      <td>-13.25</td>\n",
       "    </tr>\n",
       "    <tr>\n",
       "      <th>38</th>\n",
       "      <td>Charged Off</td>\n",
       "      <td>10575</td>\n",
       "      <td>17.86</td>\n",
       "      <td>5295.31</td>\n",
       "      <td>-16.64</td>\n",
       "      <td>3.00</td>\n",
       "      <td>-16.64</td>\n",
       "    </tr>\n",
       "    <tr>\n",
       "      <th>40</th>\n",
       "      <td>Charged Off</td>\n",
       "      <td>27000</td>\n",
       "      <td>7.90</td>\n",
       "      <td>3971.19</td>\n",
       "      <td>-28.43</td>\n",
       "      <td>3.00</td>\n",
       "      <td>-28.43</td>\n",
       "    </tr>\n",
       "    <tr>\n",
       "      <th>44</th>\n",
       "      <td>Charged Off</td>\n",
       "      <td>35000</td>\n",
       "      <td>11.99</td>\n",
       "      <td>15275.41</td>\n",
       "      <td>-18.79</td>\n",
       "      <td>3.00</td>\n",
       "      <td>-18.79</td>\n",
       "    </tr>\n",
       "    <tr>\n",
       "      <th>52</th>\n",
       "      <td>Charged Off</td>\n",
       "      <td>3750</td>\n",
       "      <td>18.92</td>\n",
       "      <td>1164.76</td>\n",
       "      <td>-22.98</td>\n",
       "      <td>3.00</td>\n",
       "      <td>-22.98</td>\n",
       "    </tr>\n",
       "    <tr>\n",
       "      <th>54</th>\n",
       "      <td>Charged Off</td>\n",
       "      <td>3000</td>\n",
       "      <td>18.25</td>\n",
       "      <td>1088.40</td>\n",
       "      <td>-21.24</td>\n",
       "      <td>3.00</td>\n",
       "      <td>-21.24</td>\n",
       "    </tr>\n",
       "    <tr>\n",
       "      <th>55</th>\n",
       "      <td>Charged Off</td>\n",
       "      <td>10000</td>\n",
       "      <td>9.17</td>\n",
       "      <td>6051.92</td>\n",
       "      <td>-13.16</td>\n",
       "      <td>3.00</td>\n",
       "      <td>-13.16</td>\n",
       "    </tr>\n",
       "  </tbody>\n",
       "</table>\n",
       "</div>"
      ],
      "text/plain": [
       "    loan_status  funded_amnt  int_rate  total_pymnt  annRet  actualTerm  \\\n",
       "14  Charged Off         6500     13.35      2701.43  -19.48        3.00   \n",
       "19  Charged Off        15000     13.35      9898.31  -11.34        3.00   \n",
       "20  Charged Off         9000     13.98      6765.44   -8.28        3.00   \n",
       "22  Charged Off         5000     10.15      3012.89  -13.25        3.00   \n",
       "38  Charged Off        10575     17.86      5295.31  -16.64        3.00   \n",
       "40  Charged Off        27000      7.90      3971.19  -28.43        3.00   \n",
       "44  Charged Off        35000     11.99     15275.41  -18.79        3.00   \n",
       "52  Charged Off         3750     18.92      1164.76  -22.98        3.00   \n",
       "54  Charged Off         3000     18.25      1088.40  -21.24        3.00   \n",
       "55  Charged Off        10000      9.17      6051.92  -13.16        3.00   \n",
       "\n",
       "    actualReturn  \n",
       "14        -19.48  \n",
       "19        -11.34  \n",
       "20         -8.28  \n",
       "22        -13.25  \n",
       "38        -16.64  \n",
       "40        -28.43  \n",
       "44        -18.79  \n",
       "52        -22.98  \n",
       "54        -21.24  \n",
       "55        -13.16  "
      ]
     },
     "execution_count": 42,
     "metadata": {},
     "output_type": "execute_result"
    }
   ],
   "source": [
    "df[df['loan_status'] == 'Charged Off'][['loan_status', 'funded_amnt', 'int_rate', 'total_pymnt', 'annRet', 'actualTerm', 'actualReturn']].head(10)"
   ]
  },
  {
   "cell_type": "code",
   "execution_count": 43,
   "id": "b3d512e6",
   "metadata": {},
   "outputs": [
    {
     "data": {
      "image/png": "[encoded data removed]",
      "text/plain": [
       "<Figure size 432x288 with 1 Axes>"
      ]
     },
     "metadata": {
      "needs_background": "light"
     },
     "output_type": "display_data"
    }
   ],
   "source": [
    "grade_order = ['A', 'B', 'C', 'D', 'E', 'F', 'G']\n",
    "sns.boxplot(x='grade', y='actualTerm', data=df, order = grade_order)\n",
    "\n",
    "plt.xlabel('Grade')\n",
    "plt.ylabel('Actual Term')\n",
    "plt.title('Box Plot: Grade vs Actual Term')\n",
    "\n",
    "# Display the plot\n",
    "plt.show()"
   ]
  },
  {
   "cell_type": "markdown",
   "id": "5ea491dd",
   "metadata": {},
   "source": [
    "### Further Data Exploration"
   ]
  },
  {
   "cell_type": "markdown",
   "id": "20f10f46",
   "metadata": {},
   "source": [
    "Let us look into loan purpose"
   ]
  },
  {
   "cell_type": "code",
   "execution_count": 44,
   "id": "2e445a87",
   "metadata": {},
   "outputs": [
    {
     "data": {
      "text/plain": [
       "purpose\n",
       "debt_consolidation    63264\n",
       "credit_card           27080\n",
       "home_improvement       6187\n",
       "other                  5670\n",
       "major_purchase         2108\n",
       "medical                1168\n",
       "small_business         1113\n",
       "car                    1083\n",
       "moving                  754\n",
       "vacation                753\n",
       "house                   432\n",
       "wedding                 197\n",
       "renewable_energy         65\n",
       "dtype: int64"
      ]
     },
     "execution_count": 44,
     "metadata": {},
     "output_type": "execute_result"
    }
   ],
   "source": [
    "df.groupby('purpose').size().sort_values(ascending = False)"
   ]
  },
  {
   "cell_type": "code",
   "execution_count": 45,
   "id": "94e2395f",
   "metadata": {},
   "outputs": [
    {
     "data": {
      "text/html": [
       "<div>\n",
       "<style scoped>\n",
       "    .dataframe tbody tr th:only-of-type {\n",
       "        vertical-align: middle;\n",
       "    }\n",
       "\n",
       "    .dataframe tbody tr th {\n",
       "        vertical-align: top;\n",
       "    }\n",
       "\n",
       "    .dataframe thead th {\n",
       "        text-align: right;\n",
       "    }\n",
       "</style>\n",
       "<table border=\"1\" class=\"dataframe\">\n",
       "  <thead>\n",
       "    <tr style=\"text-align: right;\">\n",
       "      <th></th>\n",
       "      <th>nLoans</th>\n",
       "      <th>defaults</th>\n",
       "      <th>avgInterest</th>\n",
       "      <th>avgLoanAMt</th>\n",
       "      <th>avgPmnt</th>\n",
       "      <th>avgActTerm</th>\n",
       "      <th>avgActRet</th>\n",
       "    </tr>\n",
       "    <tr>\n",
       "      <th>purpose</th>\n",
       "      <th></th>\n",
       "      <th></th>\n",
       "      <th></th>\n",
       "      <th></th>\n",
       "      <th></th>\n",
       "      <th></th>\n",
       "      <th></th>\n",
       "    </tr>\n",
       "  </thead>\n",
       "  <tbody>\n",
       "    <tr>\n",
       "      <th>car</th>\n",
       "      <td>1083</td>\n",
       "      <td>124</td>\n",
       "      <td>11.61</td>\n",
       "      <td>8118.51</td>\n",
       "      <td>8780.36</td>\n",
       "      <td>2.23</td>\n",
       "      <td>5.39</td>\n",
       "    </tr>\n",
       "    <tr>\n",
       "      <th>credit_card</th>\n",
       "      <td>27080</td>\n",
       "      <td>3158</td>\n",
       "      <td>10.73</td>\n",
       "      <td>13574.28</td>\n",
       "      <td>14754.62</td>\n",
       "      <td>2.32</td>\n",
       "      <td>4.84</td>\n",
       "    </tr>\n",
       "    <tr>\n",
       "      <th>debt_consolidation</th>\n",
       "      <td>63264</td>\n",
       "      <td>9227</td>\n",
       "      <td>12.23</td>\n",
       "      <td>13195.14</td>\n",
       "      <td>14278.91</td>\n",
       "      <td>2.23</td>\n",
       "      <td>5.27</td>\n",
       "    </tr>\n",
       "    <tr>\n",
       "      <th>home_improvement</th>\n",
       "      <td>6187</td>\n",
       "      <td>775</td>\n",
       "      <td>11.75</td>\n",
       "      <td>12034.74</td>\n",
       "      <td>13001.74</td>\n",
       "      <td>2.23</td>\n",
       "      <td>5.40</td>\n",
       "    </tr>\n",
       "    <tr>\n",
       "      <th>house</th>\n",
       "      <td>432</td>\n",
       "      <td>70</td>\n",
       "      <td>14.68</td>\n",
       "      <td>12693.23</td>\n",
       "      <td>13699.56</td>\n",
       "      <td>2.10</td>\n",
       "      <td>6.70</td>\n",
       "    </tr>\n",
       "    <tr>\n",
       "      <th>major_purchase</th>\n",
       "      <td>2108</td>\n",
       "      <td>278</td>\n",
       "      <td>11.86</td>\n",
       "      <td>9553.07</td>\n",
       "      <td>10152.63</td>\n",
       "      <td>2.23</td>\n",
       "      <td>5.12</td>\n",
       "    </tr>\n",
       "    <tr>\n",
       "      <th>medical</th>\n",
       "      <td>1168</td>\n",
       "      <td>200</td>\n",
       "      <td>14.23</td>\n",
       "      <td>7424.02</td>\n",
       "      <td>7989.15</td>\n",
       "      <td>2.25</td>\n",
       "      <td>5.75</td>\n",
       "    </tr>\n",
       "    <tr>\n",
       "      <th>moving</th>\n",
       "      <td>754</td>\n",
       "      <td>136</td>\n",
       "      <td>15.60</td>\n",
       "      <td>6549.83</td>\n",
       "      <td>6999.70</td>\n",
       "      <td>2.26</td>\n",
       "      <td>5.94</td>\n",
       "    </tr>\n",
       "    <tr>\n",
       "      <th>other</th>\n",
       "      <td>5670</td>\n",
       "      <td>915</td>\n",
       "      <td>14.49</td>\n",
       "      <td>8242.84</td>\n",
       "      <td>9013.62</td>\n",
       "      <td>2.30</td>\n",
       "      <td>6.12</td>\n",
       "    </tr>\n",
       "    <tr>\n",
       "      <th>renewable_energy</th>\n",
       "      <td>65</td>\n",
       "      <td>13</td>\n",
       "      <td>16.55</td>\n",
       "      <td>8473.46</td>\n",
       "      <td>9016.28</td>\n",
       "      <td>2.25</td>\n",
       "      <td>6.33</td>\n",
       "    </tr>\n",
       "    <tr>\n",
       "      <th>small_business</th>\n",
       "      <td>1113</td>\n",
       "      <td>255</td>\n",
       "      <td>15.73</td>\n",
       "      <td>13854.67</td>\n",
       "      <td>14458.30</td>\n",
       "      <td>2.42</td>\n",
       "      <td>4.60</td>\n",
       "    </tr>\n",
       "    <tr>\n",
       "      <th>vacation</th>\n",
       "      <td>753</td>\n",
       "      <td>125</td>\n",
       "      <td>14.41</td>\n",
       "      <td>5616.67</td>\n",
       "      <td>5949.44</td>\n",
       "      <td>2.18</td>\n",
       "      <td>6.06</td>\n",
       "    </tr>\n",
       "    <tr>\n",
       "      <th>wedding</th>\n",
       "      <td>197</td>\n",
       "      <td>31</td>\n",
       "      <td>15.44</td>\n",
       "      <td>9835.66</td>\n",
       "      <td>10849.13</td>\n",
       "      <td>2.22</td>\n",
       "      <td>7.54</td>\n",
       "    </tr>\n",
       "  </tbody>\n",
       "</table>\n",
       "</div>"
      ],
      "text/plain": [
       "                    nLoans  defaults  avgInterest  avgLoanAMt  avgPmnt  \\\n",
       "purpose                                                                  \n",
       "car                   1083       124        11.61     8118.51  8780.36   \n",
       "credit_card          27080      3158        10.73    13574.28 14754.62   \n",
       "debt_consolidation   63264      9227        12.23    13195.14 14278.91   \n",
       "home_improvement      6187       775        11.75    12034.74 13001.74   \n",
       "house                  432        70        14.68    12693.23 13699.56   \n",
       "major_purchase        2108       278        11.86     9553.07 10152.63   \n",
       "medical               1168       200        14.23     7424.02  7989.15   \n",
       "moving                 754       136        15.60     6549.83  6999.70   \n",
       "other                 5670       915        14.49     8242.84  9013.62   \n",
       "renewable_energy        65        13        16.55     8473.46  9016.28   \n",
       "small_business        1113       255        15.73    13854.67 14458.30   \n",
       "vacation               753       125        14.41     5616.67  5949.44   \n",
       "wedding                197        31        15.44     9835.66 10849.13   \n",
       "\n",
       "                    avgActTerm  avgActRet  \n",
       "purpose                                    \n",
       "car                       2.23       5.39  \n",
       "credit_card               2.32       4.84  \n",
       "debt_consolidation        2.23       5.27  \n",
       "home_improvement          2.23       5.40  \n",
       "house                     2.10       6.70  \n",
       "major_purchase            2.23       5.12  \n",
       "medical                   2.25       5.75  \n",
       "moving                    2.26       5.94  \n",
       "other                     2.30       6.12  \n",
       "renewable_energy          2.25       6.33  \n",
       "small_business            2.42       4.60  \n",
       "vacation                  2.18       6.06  \n",
       "wedding                   2.22       7.54  "
      ]
     },
     "execution_count": 45,
     "metadata": {},
     "output_type": "execute_result"
    }
   ],
   "source": [
    "df.groupby('purpose').agg(\n",
    "    nLoans=('grade', 'size'),\n",
    "    defaults=('loan_status', lambda x: sum(x == 'Charged Off')),\n",
    "    avgInterest=('int_rate', 'mean'),\n",
    "    avgLoanAMt=('loan_amnt', 'mean'),\n",
    "    avgPmnt=('total_pymnt', 'mean'),\n",
    "    avgActTerm=('actualTerm', 'mean'),\n",
    "    avgActRet=('actualReturn', 'mean')\n",
    "    \n",
    ")"
   ]
  },
  {
   "cell_type": "markdown",
   "id": "2793767d",
   "metadata": {},
   "source": [
    "###### Looking into emp_length\n"
   ]
  },
  {
   "cell_type": "code",
   "execution_count": 46,
   "id": "1281f628",
   "metadata": {},
   "outputs": [
    {
     "data": {
      "text/plain": [
       "emp_length\n",
       "1 year        7333\n",
       "10+ years    34335\n",
       "2 years       9788\n",
       "3 years       8881\n",
       "4 years       6501\n",
       "5 years       6967\n",
       "6 years       5444\n",
       "7 years       5571\n",
       "8 years       5450\n",
       "9 years       4186\n",
       "< 1 year      8779\n",
       "dtype: int64"
      ]
     },
     "execution_count": 46,
     "metadata": {},
     "output_type": "execute_result"
    }
   ],
   "source": [
    "df.groupby('emp_length').size()"
   ]
  },
  {
   "cell_type": "markdown",
   "id": "06e0c415",
   "metadata": {},
   "source": [
    "###### Looking into annualInc "
   ]
  },
  {
   "cell_type": "markdown",
   "id": "b15829bd",
   "metadata": {},
   "source": [
    "###### Derived attributes"
   ]
  },
  {
   "cell_type": "code",
   "execution_count": 47,
   "id": "9d247485",
   "metadata": {},
   "outputs": [
    {
     "data": {
      "text/plain": [
       "0        1.00\n",
       "1        1.00\n",
       "2        0.50\n",
       "3        0.46\n",
       "4        0.50\n",
       "         ... \n",
       "109995   0.50\n",
       "109996   0.70\n",
       "109997   1.00\n",
       "109998   0.75\n",
       "109999   0.67\n",
       "Name: propSatisBankcardAccts, Length: 109874, dtype: float64"
      ]
     },
     "execution_count": 47,
     "metadata": {},
     "output_type": "execute_result"
    }
   ],
   "source": [
    "#proportion of satisfactory bankcard accounts \n",
    "df['propSatisBankcardAccts'] = df.apply(lambda x: x['num_bc_sats'] / x['num_bc_tl'] if x['num_bc_tl'] > 0 else 0, axis=1)\n",
    "df['propSatisBankcardAccts']"
   ]
  },
  {
   "cell_type": "code",
   "execution_count": 48,
   "id": "067f7a74",
   "metadata": {},
   "outputs": [
    {
     "data": {
      "text/plain": [
       "0         Aug-11\n",
       "1         Dec-06\n",
       "2         Feb-95\n",
       "3         Nov-95\n",
       "4         Feb-01\n",
       "           ...  \n",
       "109995    Jul-02\n",
       "109996    Feb-95\n",
       "109997    Aug-06\n",
       "109998    Nov-95\n",
       "109999    Apr-99\n",
       "Name: earliest_cr_line, Length: 109874, dtype: object"
      ]
     },
     "execution_count": 48,
     "metadata": {},
     "output_type": "execute_result"
    }
   ],
   "source": [
    "#calculating the length of borrower's history with LC i.e time between earliest_cr_line and issue_d\n",
    "df['earliest_cr_line']"
   ]
  },
  {
   "cell_type": "code",
   "execution_count": 49,
   "id": "bba05d68",
   "metadata": {},
   "outputs": [
    {
     "data": {
      "text/plain": [
       "0        2015-03-01\n",
       "1        2014-05-01\n",
       "2        2015-09-01\n",
       "3        2014-05-01\n",
       "4        2015-05-01\n",
       "            ...    \n",
       "109995   2013-11-01\n",
       "109996   2014-10-01\n",
       "109997   2015-09-01\n",
       "109998   2013-05-01\n",
       "109999   2014-07-01\n",
       "Name: issue_d, Length: 109874, dtype: datetime64[ns]"
      ]
     },
     "execution_count": 49,
     "metadata": {},
     "output_type": "execute_result"
    }
   ],
   "source": [
    "df['issue_d']"
   ]
  },
  {
   "cell_type": "code",
   "execution_count": 50,
   "id": "2066dc7b",
   "metadata": {},
   "outputs": [],
   "source": [
    "#we will have to change the format of 'earliest_cr_line' to match with 'issue_d'\n",
    "df['earliest_cr_line'] = df['earliest_cr_line'].apply(format_date)"
   ]
  },
  {
   "cell_type": "code",
   "execution_count": 51,
   "id": "6d688bba",
   "metadata": {},
   "outputs": [
    {
     "data": {
      "text/plain": [
       "0        2011-08-01\n",
       "1        2006-12-01\n",
       "2        1995-02-01\n",
       "3        1995-11-01\n",
       "4        2001-02-01\n",
       "            ...    \n",
       "109995   2002-07-01\n",
       "109996   1995-02-01\n",
       "109997   2006-08-01\n",
       "109998   1995-11-01\n",
       "109999   1999-04-01\n",
       "Name: earliest_cr_line, Length: 109874, dtype: datetime64[ns]"
      ]
     },
     "execution_count": 51,
     "metadata": {},
     "output_type": "execute_result"
    }
   ],
   "source": [
    "df['earliest_cr_line']"
   ]
  },
  {
   "cell_type": "code",
   "execution_count": 52,
   "id": "25740200",
   "metadata": {},
   "outputs": [
    {
     "data": {
      "text/plain": [
       "dtype('<M8[ns]')"
      ]
     },
     "execution_count": 52,
     "metadata": {},
     "output_type": "execute_result"
    }
   ],
   "source": [
    "df['issue_d'].dtypes"
   ]
  },
  {
   "cell_type": "code",
   "execution_count": 53,
   "id": "716626ba",
   "metadata": {},
   "outputs": [],
   "source": [
    "df['borrHistory'] = (df['issue_d'] - df['earliest_cr_line']).dt.days / 365 #duration in years"
   ]
  },
  {
   "cell_type": "code",
   "execution_count": 54,
   "id": "6aca44bc",
   "metadata": {},
   "outputs": [
    {
     "data": {
      "text/plain": [
       "0         3.58\n",
       "1         7.42\n",
       "2        20.59\n",
       "3        18.51\n",
       "4        14.25\n",
       "          ... \n",
       "109995   11.35\n",
       "109996   19.68\n",
       "109997    9.09\n",
       "109998   17.51\n",
       "109999   15.26\n",
       "Name: borrHistory, Length: 109874, dtype: float64"
      ]
     },
     "execution_count": 54,
     "metadata": {},
     "output_type": "execute_result"
    }
   ],
   "source": [
    "df['borrHistory']"
   ]
  },
  {
   "cell_type": "code",
   "execution_count": 55,
   "id": "457c843b",
   "metadata": {},
   "outputs": [],
   "source": [
    "#ratio of openAccounts to totalAccounts\n",
    "df['openAccRatio'] = df['open_acc']/df['total_acc']"
   ]
  },
  {
   "cell_type": "code",
   "execution_count": 56,
   "id": "238aa0f7",
   "metadata": {},
   "outputs": [
    {
     "data": {
      "text/plain": [
       "grade\n",
       "A   17.76\n",
       "B   16.14\n",
       "C   15.21\n",
       "D   14.57\n",
       "E   13.97\n",
       "F   13.51\n",
       "G   12.00\n",
       "Name: borrHistory, dtype: float64"
      ]
     },
     "execution_count": 56,
     "metadata": {},
     "output_type": "execute_result"
    }
   ],
   "source": [
    "df.groupby('grade')['borrHistory'].mean()"
   ]
  },
  {
   "cell_type": "markdown",
   "id": "b72a460c",
   "metadata": {},
   "source": [
    "###### Removing variables for potential leakage:\n",
    "Data leakage can occur when you include information in the model that would not be available at the time of making predictions. This can lead to overly optimistic performance measures and unreliable model predictions.\n",
    "\n",
    "We can remove variables that directly or indirectly encode information about the target variable. For example, variables like total_rec_prncp or recoveries could potentially introduce leakage as they provide information about loan default.\n",
    "Also, variables that represent future or post-event information that would not be available at the time of prediction can lead to potential leakage."
   ]
  },
  {
   "cell_type": "code",
   "execution_count": 57,
   "id": "d3c6160a",
   "metadata": {},
   "outputs": [],
   "source": [
    "varsToRemove = [\n",
    "    'funded_amnt_inv', 'term', 'emp_title', 'pymnt_plan', 'earliest_cr_line', 'title',\n",
    "    'zip_code', 'addr_state', 'out_prncp', 'out_prncp_inv', 'total_pymnt_inv',\n",
    "    'total_rec_prncp', 'total_rec_int', 'total_rec_late_fee', 'recoveries',\n",
    "    'collection_recovery_fee', 'last_credit_pull_d', 'policy_code', 'disbursement_method',\n",
    "    'debt_settlement_flag', 'settlement_term', 'application_type', 'last_pymnt_d',\n",
    "    'last_pymnt_amnt', 'next_pymnt_d', 'deferral_term', 'payment_plan_start_date',\n",
    "    'debt_settlement_flag_date', 'hardship_flag', 'hardship_type', 'hardship_reason',\n",
    "    'hardship_status', 'deferral_term', 'hardship_amount', 'hardship_start_date',\n",
    "    'hardship_end_date', 'hardship_length', 'hardship_dpd', 'hardship_loan_status',\n",
    "    'orig_projected_additional_accrued_interest', 'hardship_payoff_balance_amount',\n",
    "    'hardship_last_payment_amount', 'settlement_status', 'settlement_date',\n",
    "    'settlement_amount', 'settlement_percentage', 'settlement_term'\n",
    "]\n",
    "df = df.drop(columns=varsToRemove)"
   ]
  },
  {
   "cell_type": "code",
   "execution_count": 58,
   "id": "a9f5070a",
   "metadata": {},
   "outputs": [
    {
     "data": {
      "text/plain": [
       "Index(['id', 'member_id', 'loan_amnt', 'funded_amnt', 'int_rate',\n",
       "       'installment', 'grade', 'sub_grade', 'emp_length', 'home_ownership',\n",
       "       ...\n",
       "       'sec_app_num_rev_accts', 'sec_app_chargeoff_within_12_mths',\n",
       "       'sec_app_collections_12_mths_ex_med',\n",
       "       'sec_app_mths_since_last_major_derog', 'annRet', 'actualTerm',\n",
       "       'actualReturn', 'propSatisBankcardAccts', 'borrHistory',\n",
       "       'openAccRatio'],\n",
       "      dtype='object', length=106)"
      ]
     },
     "execution_count": 58,
     "metadata": {},
     "output_type": "execute_result"
    }
   ],
   "source": [
    "df.columns"
   ]
  },
  {
   "cell_type": "code",
   "execution_count": 59,
   "id": "d95204b5",
   "metadata": {},
   "outputs": [
    {
     "data": {
      "text/plain": [
       "(109874, 106)"
      ]
     },
     "execution_count": 59,
     "metadata": {},
     "output_type": "execute_result"
    }
   ],
   "source": [
    "df.shape"
   ]
  },
  {
   "cell_type": "markdown",
   "id": "969c0a3a",
   "metadata": {},
   "source": [
    "# Data Cleaning"
   ]
  },
  {
   "cell_type": "markdown",
   "id": "5532dea3",
   "metadata": {},
   "source": [
    "## Missing values"
   ]
  },
  {
   "cell_type": "code",
   "execution_count": 60,
   "id": "917adaff",
   "metadata": {},
   "outputs": [
    {
     "data": {
      "text/plain": [
       "0.34330799498980136"
      ]
     },
     "execution_count": 60,
     "metadata": {},
     "output_type": "execute_result"
    }
   ],
   "source": [
    "(df.isnull().sum().sum())/(df.shape[0]*df.shape[1])"
   ]
  },
  {
   "cell_type": "markdown",
   "id": "89b6c0ca",
   "metadata": {},
   "source": [
    "So, our data has roughly 34.3% missing values"
   ]
  },
  {
   "cell_type": "code",
   "execution_count": 61,
   "id": "693d7cc5",
   "metadata": {},
   "outputs": [
    {
     "data": {
      "text/plain": [
       "id                100.00\n",
       "member_id         100.00\n",
       "desc              100.00\n",
       "url               100.00\n",
       "revol_bal_joint   100.00\n",
       "                   ...  \n",
       "delinq_amnt         0.00\n",
       "delinq_2yrs         0.00\n",
       "inq_last_6mths      0.00\n",
       "open_acc            0.00\n",
       "openAccRatio        0.00\n",
       "Length: 106, dtype: float64"
      ]
     },
     "execution_count": 61,
     "metadata": {},
     "output_type": "execute_result"
    }
   ],
   "source": [
    "percent_missing = df.isnull().sum() * 100 / len(df)\n",
    "percent_missing.sort_values(ascending= False)"
   ]
  },
  {
   "cell_type": "code",
   "execution_count": 62,
   "id": "4ff700e0",
   "metadata": {},
   "outputs": [
    {
     "data": {
      "text/html": [
       "<div>\n",
       "<style scoped>\n",
       "    .dataframe tbody tr th:only-of-type {\n",
       "        vertical-align: middle;\n",
       "    }\n",
       "\n",
       "    .dataframe tbody tr th {\n",
       "        vertical-align: top;\n",
       "    }\n",
       "\n",
       "    .dataframe thead th {\n",
       "        text-align: right;\n",
       "    }\n",
       "</style>\n",
       "<table border=\"1\" class=\"dataframe\">\n",
       "  <thead>\n",
       "    <tr style=\"text-align: right;\">\n",
       "      <th></th>\n",
       "      <th>Percentage of null values</th>\n",
       "      <th>No.of columns</th>\n",
       "    </tr>\n",
       "  </thead>\n",
       "  <tbody>\n",
       "    <tr>\n",
       "      <th>0</th>\n",
       "      <td>25% or less</td>\n",
       "      <td>69</td>\n",
       "    </tr>\n",
       "    <tr>\n",
       "      <th>1</th>\n",
       "      <td>50% or more</td>\n",
       "      <td>37</td>\n",
       "    </tr>\n",
       "    <tr>\n",
       "      <th>2</th>\n",
       "      <td>75% or more</td>\n",
       "      <td>34</td>\n",
       "    </tr>\n",
       "    <tr>\n",
       "      <th>3</th>\n",
       "      <td>100%</td>\n",
       "      <td>15</td>\n",
       "    </tr>\n",
       "  </tbody>\n",
       "</table>\n",
       "</div>"
      ],
      "text/plain": [
       "  Percentage of null values  No.of columns\n",
       "0               25% or less             69\n",
       "1               50% or more             37\n",
       "2               75% or more             34\n",
       "3                      100%             15"
      ]
     },
     "execution_count": 62,
     "metadata": {},
     "output_type": "execute_result"
    }
   ],
   "source": [
    "# Creating a dataframe to display percentage of null values in each column\n",
    "a = pd.DataFrame()\n",
    "a['Percentage of null values']=['25% or less','50% or more','75% or more', '100%']\n",
    "\n",
    "p1 = len(df.columns[((df.isnull().sum())/len(df)) <= 0.25])\n",
    "p2 = len(df.columns[((df.isnull().sum())/len(df)) >= 0.5])\n",
    "p3 = len(df.columns[((df.isnull().sum())/len(df)) >= 0.75])\n",
    "p4 = len(df.columns[((df.isnull().sum())/len(df)) == 1.0])\n",
    "\n",
    "\n",
    "a['No.of columns'] = [p1,p2,p3,p4]\n",
    "a"
   ]
  },
  {
   "cell_type": "markdown",
   "id": "105763d3",
   "metadata": {},
   "source": [
    "This means we have 15 variables with all null values. We have also have only 69 columns with less than 25% null or missing values. "
   ]
  },
  {
   "cell_type": "markdown",
   "id": "261ae959",
   "metadata": {},
   "source": [
    "We will remove all columns with more than 60% missing data since they will not be contributing much towards our analyses and prediction."
   ]
  },
  {
   "cell_type": "code",
   "execution_count": 63,
   "id": "16afcdae",
   "metadata": {},
   "outputs": [],
   "source": [
    "thresh = len(df) * .4\n",
    "df.dropna(thresh = thresh, axis = 1, inplace = True)"
   ]
  },
  {
   "cell_type": "code",
   "execution_count": 64,
   "id": "a0146244",
   "metadata": {},
   "outputs": [
    {
     "data": {
      "text/plain": [
       "(109874, 70)"
      ]
     },
     "execution_count": 64,
     "metadata": {},
     "output_type": "execute_result"
    }
   ],
   "source": [
    "df.shape"
   ]
  },
  {
   "cell_type": "code",
   "execution_count": 65,
   "id": "37b98fde",
   "metadata": {},
   "outputs": [
    {
     "name": "stdout",
     "output_type": "stream",
     "text": [
      "mths_since_last_delinq        55554\n",
      "mths_since_recent_inq         12844\n",
      "mo_sin_old_il_acct             8077\n",
      "num_tl_120dpd_2m               7919\n",
      "pct_tl_nvr_dlq                 4110\n",
      "avg_cur_bal                    4090\n",
      "num_tl_op_past_12m             4087\n",
      "num_tl_90g_dpd_24m             4087\n",
      "num_tl_30dpd                   4087\n",
      "num_rev_tl_bal_gt_0            4087\n",
      "tot_hi_cred_lim                4087\n",
      "num_rev_accts                  4087\n",
      "num_op_rev_tl                  4087\n",
      "num_il_tl                      4087\n",
      "num_bc_tl                      4087\n",
      "num_actv_rev_tl                4087\n",
      "num_actv_bc_tl                 4087\n",
      "total_il_high_credit_limit     4087\n",
      "num_accts_ever_120_pd          4087\n",
      "total_rev_hi_lim               4087\n",
      "mo_sin_rcnt_tl                 4087\n",
      "mo_sin_rcnt_rev_tl_op          4087\n",
      "mo_sin_old_rev_tl_op           4087\n",
      "tot_coll_amt                   4087\n",
      "tot_cur_bal                    4087\n",
      "num_bc_sats                    2363\n",
      "num_sats                       2363\n",
      "percent_bc_gt_75               2219\n",
      "bc_util                        2213\n",
      "bc_open_to_buy                 2144\n",
      "mths_since_recent_bc           2066\n",
      "acc_open_past_24mths           1083\n",
      "mort_acc                       1083\n",
      "total_bal_ex_mort              1083\n",
      "total_bc_limit                 1083\n",
      "revol_util                       46\n",
      "dti                               1\n",
      "dtype: int64\n"
     ]
    }
   ],
   "source": [
    "# Finding all numeric columns with missing values\n",
    "numeric_cols = df.select_dtypes(include=['int', 'float'])\n",
    "cols_with_missing = numeric_cols.columns[numeric_cols.isnull().any()]\n",
    "missing_counts = numeric_cols[cols_with_missing].isnull().sum().sort_values(ascending=False)\n",
    "print(missing_counts)"
   ]
  },
  {
   "cell_type": "markdown",
   "id": "10571b7a",
   "metadata": {},
   "source": [
    "Let's look at customer's credit history. We look at the number of open credit lines in the borrower's credit file."
   ]
  },
  {
   "cell_type": "code",
   "execution_count": 66,
   "id": "b376c6a1",
   "metadata": {},
   "outputs": [
    {
     "data": {
      "text/plain": [
       "count   109874.00\n",
       "mean        11.39\n",
       "std          5.23\n",
       "min          0.00\n",
       "25%          8.00\n",
       "50%         10.00\n",
       "75%         14.00\n",
       "max         62.00\n",
       "Name: open_acc, dtype: float64"
      ]
     },
     "execution_count": 66,
     "metadata": {},
     "output_type": "execute_result"
    }
   ],
   "source": [
    "df['open_acc'].describe()"
   ]
  },
  {
   "cell_type": "markdown",
   "id": "12767b18",
   "metadata": {},
   "source": [
    "Let's look at deliquency and see its relation with loan defualt. Deliquency occurs when the borrower make payments late (even by one day) or miss a regular installment payment or payments."
   ]
  },
  {
   "cell_type": "code",
   "execution_count": 67,
   "id": "7910ac61",
   "metadata": {},
   "outputs": [
    {
     "data": {
      "text/plain": [
       "count   54320.00\n",
       "mean       34.19\n",
       "std        21.83\n",
       "min         0.00\n",
       "25%        16.00\n",
       "50%        31.00\n",
       "75%        50.00\n",
       "max       188.00\n",
       "Name: mths_since_last_delinq, dtype: float64"
      ]
     },
     "execution_count": 67,
     "metadata": {},
     "output_type": "execute_result"
    }
   ],
   "source": [
    "# mths_since_last_delinq: The number of months since the borrower's last delinquency.\n",
    "df['mths_since_last_delinq'].describe()"
   ]
  },
  {
   "cell_type": "code",
   "execution_count": 68,
   "id": "b92cc479",
   "metadata": {},
   "outputs": [
    {
     "data": {
      "image/png": "[encoded data removed]",
      "text/plain": [
       "<Figure size 432x288 with 1 Axes>"
      ]
     },
     "metadata": {
      "needs_background": "light"
     },
     "output_type": "display_data"
    }
   ],
   "source": [
    "filtered_df = df[df['loan_status'] == 'Charged Off']\n",
    "grouped_data = filtered_df.groupby('mths_since_last_delinq').size()\n",
    "total_counts = df.groupby('mths_since_last_delinq').size()\n",
    "default_rate = 100 * grouped_data / total_counts\n",
    "\n",
    "x = default_rate.index\n",
    "y = default_rate.values\n",
    "\n",
    "plt.scatter(x, y)\n",
    "plt.xlabel(\"mths_since_last_delinq\")\n",
    "plt.ylabel(\"Default Rate (%)\")\n",
    "plt.title(\"Scatter Plot of Default Rate by mths_since_last_delinq\")\n",
    "plt.show()\n",
    "\n"
   ]
  },
  {
   "cell_type": "markdown",
   "id": "43b87021",
   "metadata": {},
   "source": [
    "mths_since_last_delinq has some surprisingly high values with a very high default rate as well. Other than that, it does not convey much. The default rate for majority of the values stays less than 20%. "
   ]
  },
  {
   "cell_type": "code",
   "execution_count": 69,
   "id": "9ea95812",
   "metadata": {},
   "outputs": [
    {
     "data": {
      "image/png": "[encoded data removed]",
      "text/plain": [
       "<Figure size 432x288 with 1 Axes>"
      ]
     },
     "metadata": {
      "needs_background": "light"
     },
     "output_type": "display_data"
    }
   ],
   "source": [
    "#Adjusting scale of y axis to see any patterns\n",
    "x = default_rate.index\n",
    "y = default_rate.values\n",
    "\n",
    "plt.scatter(x, y)\n",
    "plt.xlabel(\"mths_since_last_delinq\")\n",
    "plt.ylabel(\"Default Rate (%)\")\n",
    "plt.title(\"Scatter Plot of Default Rate by mths_since_last_delinq\")\n",
    "\n",
    "# Set the scale of the y-axis\n",
    "plt.ylim(10, 20)\n",
    "plt.show()"
   ]
  },
  {
   "cell_type": "markdown",
   "id": "4859e121",
   "metadata": {},
   "source": [
    "We can notice that loans with recent delinquencies (i.e., lower values of mths_since_last_delinq) tend to have higher default rates."
   ]
  },
  {
   "cell_type": "code",
   "execution_count": 70,
   "id": "cfbff544",
   "metadata": {},
   "outputs": [
    {
     "data": {
      "text/plain": [
       "<AxesSubplot:xlabel='mths_since_last_delinq', ylabel='Count'>"
      ]
     },
     "execution_count": 70,
     "metadata": {},
     "output_type": "execute_result"
    },
    {
     "data": {
      "image/png": "[encoded data removed]",
      "text/plain": [
       "<Figure size 432x288 with 1 Axes>"
      ]
     },
     "metadata": {
      "needs_background": "light"
     },
     "output_type": "display_data"
    }
   ],
   "source": [
    "sns.histplot(df['mths_since_last_delinq'], kde=True)  "
   ]
  },
  {
   "cell_type": "code",
   "execution_count": 71,
   "id": "1c1e074d",
   "metadata": {},
   "outputs": [
    {
     "data": {
      "text/plain": [
       "<AxesSubplot:xlabel='mo_sin_old_il_acct', ylabel='Count'>"
      ]
     },
     "execution_count": 71,
     "metadata": {},
     "output_type": "execute_result"
    },
    {
     "data": {
      "image/png": "[encoded data removed]",
      "text/plain": [
       "<Figure size 432x288 with 1 Axes>"
      ]
     },
     "metadata": {
      "needs_background": "light"
     },
     "output_type": "display_data"
    }
   ],
   "source": [
    "# mo_sin_old_il_acct: Number of months since the borrower's oldest installment account was opened.\n",
    "sns.histplot(df['mo_sin_old_il_acct'], kde=True)  "
   ]
  },
  {
   "cell_type": "code",
   "execution_count": 72,
   "id": "52d669fb",
   "metadata": {},
   "outputs": [
    {
     "data": {
      "text/plain": [
       "<AxesSubplot:xlabel='avg_cur_bal', ylabel='Count'>"
      ]
     },
     "execution_count": 72,
     "metadata": {},
     "output_type": "execute_result"
    },
    {
     "data": {
      "image/png": "[encoded data removed]",
      "text/plain": [
       "<Figure size 432x288 with 1 Axes>"
      ]
     },
     "metadata": {
      "needs_background": "light"
     },
     "output_type": "display_data"
    }
   ],
   "source": [
    "sns.histplot(df['avg_cur_bal'], kde=True)  "
   ]
  },
  {
   "cell_type": "code",
   "execution_count": 73,
   "id": "98127488",
   "metadata": {},
   "outputs": [
    {
     "data": {
      "text/plain": [
       "<AxesSubplot:xlabel='num_tl_120dpd_2m', ylabel='count'>"
      ]
     },
     "execution_count": 73,
     "metadata": {},
     "output_type": "execute_result"
    },
    {
     "data": {
      "image/png": "[encoded data removed]",
      "text/plain": [
       "<Figure size 432x288 with 1 Axes>"
      ]
     },
     "metadata": {
      "needs_background": "light"
     },
     "output_type": "display_data"
    }
   ],
   "source": [
    "sns.countplot(data=df, x='num_tl_120dpd_2m')"
   ]
  },
  {
   "cell_type": "code",
   "execution_count": 74,
   "id": "96aa872d",
   "metadata": {},
   "outputs": [
    {
     "data": {
      "text/plain": [
       "<AxesSubplot:xlabel='pct_tl_nvr_dlq', ylabel='Count'>"
      ]
     },
     "execution_count": 74,
     "metadata": {},
     "output_type": "execute_result"
    },
    {
     "data": {
      "image/png": "[encoded data removed]",
      "text/plain": [
       "<Figure size 432x288 with 1 Axes>"
      ]
     },
     "metadata": {
      "needs_background": "light"
     },
     "output_type": "display_data"
    }
   ],
   "source": [
    "sns.histplot(df['pct_tl_nvr_dlq'], kde=True)  "
   ]
  },
  {
   "cell_type": "code",
   "execution_count": 75,
   "id": "f9f87fd9",
   "metadata": {},
   "outputs": [
    {
     "data": {
      "text/plain": [
       "<AxesSubplot:xlabel='num_tl_op_past_12m', ylabel='count'>"
      ]
     },
     "execution_count": 75,
     "metadata": {},
     "output_type": "execute_result"
    },
    {
     "data": {
      "image/png": "[encoded data removed]",
      "text/plain": [
       "<Figure size 432x288 with 1 Axes>"
      ]
     },
     "metadata": {
      "needs_background": "light"
     },
     "output_type": "display_data"
    }
   ],
   "source": [
    "sns.countplot(data=df, x='num_tl_op_past_12m')"
   ]
  },
  {
   "cell_type": "code",
   "execution_count": 76,
   "id": "0fbb1a99",
   "metadata": {},
   "outputs": [
    {
     "data": {
      "text/plain": [
       "<AxesSubplot:xlabel='num_tl_90g_dpd_24m', ylabel='count'>"
      ]
     },
     "execution_count": 76,
     "metadata": {},
     "output_type": "execute_result"
    },
    {
     "data": {
      "image/png": "[encoded data removed]",
      "text/plain": [
       "<Figure size 432x288 with 1 Axes>"
      ]
     },
     "metadata": {
      "needs_background": "light"
     },
     "output_type": "display_data"
    }
   ],
   "source": [
    "sns.countplot(data=df, x='num_tl_90g_dpd_24m')"
   ]
  },
  {
   "cell_type": "code",
   "execution_count": 77,
   "id": "bb0d2a10",
   "metadata": {},
   "outputs": [
    {
     "data": {
      "text/plain": [
       "<AxesSubplot:xlabel='num_bc_sats', ylabel='count'>"
      ]
     },
     "execution_count": 77,
     "metadata": {},
     "output_type": "execute_result"
    },
    {
     "data": {
      "image/png": "[encoded data removed]",
      "text/plain": [
       "<Figure size 432x288 with 1 Axes>"
      ]
     },
     "metadata": {
      "needs_background": "light"
     },
     "output_type": "display_data"
    }
   ],
   "source": [
    "sns.countplot(data=df, x='num_bc_sats')"
   ]
  },
  {
   "cell_type": "code",
   "execution_count": 78,
   "id": "8e4191b5",
   "metadata": {},
   "outputs": [
    {
     "data": {
      "text/plain": [
       "<AxesSubplot:xlabel='bc_util', ylabel='Count'>"
      ]
     },
     "execution_count": 78,
     "metadata": {},
     "output_type": "execute_result"
    },
    {
     "data": {
      "image/png": "[encoded data removed]",
      "text/plain": [
       "<Figure size 432x288 with 1 Axes>"
      ]
     },
     "metadata": {
      "needs_background": "light"
     },
     "output_type": "display_data"
    }
   ],
   "source": [
    "sns.histplot(df['bc_util'], kde=True)  "
   ]
  },
  {
   "cell_type": "code",
   "execution_count": 79,
   "id": "9424f050",
   "metadata": {},
   "outputs": [
    {
     "data": {
      "text/plain": [
       "<AxesSubplot:xlabel='bc_open_to_buy', ylabel='Count'>"
      ]
     },
     "execution_count": 79,
     "metadata": {},
     "output_type": "execute_result"
    },
    {
     "data": {
      "image/png": "[encoded data removed]",
      "text/plain": [
       "<Figure size 432x288 with 1 Axes>"
      ]
     },
     "metadata": {
      "needs_background": "light"
     },
     "output_type": "display_data"
    }
   ],
   "source": [
    "sns.histplot(df['bc_open_to_buy'], kde=True)  "
   ]
  },
  {
   "cell_type": "code",
   "execution_count": 80,
   "id": "d64e461d",
   "metadata": {},
   "outputs": [
    {
     "data": {
      "text/plain": [
       "<AxesSubplot:xlabel='acc_open_past_24mths', ylabel='count'>"
      ]
     },
     "execution_count": 80,
     "metadata": {},
     "output_type": "execute_result"
    },
    {
     "data": {
      "image/png": "[encoded data removed]",
      "text/plain": [
       "<Figure size 432x288 with 1 Axes>"
      ]
     },
     "metadata": {
      "needs_background": "light"
     },
     "output_type": "display_data"
    }
   ],
   "source": [
    "sns.countplot(data=df, x='acc_open_past_24mths')"
   ]
  },
  {
   "cell_type": "code",
   "execution_count": 81,
   "id": "892f58b3",
   "metadata": {},
   "outputs": [
    {
     "data": {
      "text/plain": [
       "55554"
      ]
     },
     "execution_count": 81,
     "metadata": {},
     "output_type": "execute_result"
    }
   ],
   "source": [
    "df['mths_since_last_delinq'].isnull().sum()"
   ]
  },
  {
   "cell_type": "markdown",
   "id": "b1f3c142",
   "metadata": {},
   "source": [
    "So we have about 55k missing values in this column. Since it has a relationship with default rate, we will want to consider this variable and hence we need to impute these missing values. The distribution seems skewed with outliers so we will be imputing missing values with median (not sensitive to outliers)"
   ]
  },
  {
   "cell_type": "markdown",
   "id": "f78aadab",
   "metadata": {},
   "source": [
    "Another important feature could be mths_since_recent_inq i.e., Months since most recent inquiry."
   ]
  },
  {
   "cell_type": "code",
   "execution_count": 82,
   "id": "8d2c3c83",
   "metadata": {},
   "outputs": [
    {
     "data": {
      "text/plain": [
       "NaN      12844\n",
       "1.00     10744\n",
       "2.00      8751\n",
       "0.00      8561\n",
       "3.00      7602\n",
       "4.00      7029\n",
       "5.00      6410\n",
       "6.00      5662\n",
       "7.00      5465\n",
       "8.00      4789\n",
       "9.00      4278\n",
       "10.00     3678\n",
       "11.00     3292\n",
       "12.00     3043\n",
       "13.00     2630\n",
       "14.00     2407\n",
       "15.00     2055\n",
       "16.00     1760\n",
       "17.00     1602\n",
       "18.00     1469\n",
       "19.00     1337\n",
       "20.00     1171\n",
       "21.00     1033\n",
       "22.00      945\n",
       "23.00      903\n",
       "24.00      413\n",
       "25.00        1\n",
       "Name: mths_since_recent_inq, dtype: int64"
      ]
     },
     "execution_count": 82,
     "metadata": {},
     "output_type": "execute_result"
    }
   ],
   "source": [
    "df['mths_since_recent_inq'].value_counts(dropna = False)"
   ]
  },
  {
   "cell_type": "code",
   "execution_count": 83,
   "id": "f089ba0e",
   "metadata": {},
   "outputs": [
    {
     "name": "stdout",
     "output_type": "stream",
     "text": [
      "mths_since_recent_inq\n",
      "0.0       0.17\n",
      "1.0       0.17\n",
      "2.0       0.16\n",
      "3.0       0.16\n",
      "4.0       0.15\n",
      "5.0       0.14\n",
      "6.0       0.14\n",
      "7.0       0.14\n",
      "8.0       0.14\n",
      "9.0       0.13\n",
      "10.0      0.14\n",
      "11.0      0.13\n",
      "12.0      0.12\n",
      "13.0      0.13\n",
      "14.0      0.13\n",
      "15.0      0.12\n",
      "16.0      0.12\n",
      "17.0      0.11\n",
      "18.0      0.10\n",
      "19.0      0.10\n",
      "20.0      0.11\n",
      "21.0      0.12\n",
      "22.0      0.12\n",
      "23.0      0.12\n",
      "24.0      0.11\n",
      "25.0      0.00\n",
      "missing   0.10\n",
      "dtype: float64\n"
     ]
    }
   ],
   "source": [
    "#Here we are calculating the proportion of defaults ('Charged Off') for each unique value of 'mths_since_recent_inq'\n",
    "cc = pd.crosstab(df['loan_status'], df['mths_since_recent_inq'].fillna('missing'))\n",
    "\n",
    "default_rate = cc.loc['Charged Off'] / cc.sum(axis=0)\n",
    "default_rate.fillna(\"missing\", inplace=True)  # Replace NaN with 0 if there are missing values\n",
    "\n",
    "print(default_rate)"
   ]
  },
  {
   "cell_type": "markdown",
   "id": "cd1717c8",
   "metadata": {},
   "source": [
    "The default rate for missing values is closer to the larger values of 'mths_since_recent_inq'.  So if we have to impute missing values, we can replace them with large values of 'mths_since_recent_inq' (i.e., 18,19,20)."
   ]
  },
  {
   "cell_type": "code",
   "execution_count": 84,
   "id": "78291de5",
   "metadata": {},
   "outputs": [],
   "source": [
    "df['mths_since_recent_inq'] = df['mths_since_recent_inq'].fillna(19.0)"
   ]
  },
  {
   "cell_type": "code",
   "execution_count": 85,
   "id": "bb989d74",
   "metadata": {},
   "outputs": [],
   "source": [
    "for col in cols_with_missing:\n",
    "    if col != 'mths_since_recent_inq':\n",
    "        median_val = df[col].median()\n",
    "        df[col].fillna(median_val, inplace=True)"
   ]
  },
  {
   "cell_type": "code",
   "execution_count": 86,
   "id": "acda9de3",
   "metadata": {},
   "outputs": [
    {
     "data": {
      "text/plain": [
       "emp_length                 6.04\n",
       "loan_amnt                  0.00\n",
       "num_bc_sats                0.00\n",
       "num_sats                   0.00\n",
       "num_rev_tl_bal_gt_0        0.00\n",
       "                           ... \n",
       "avg_cur_bal                0.00\n",
       "bc_open_to_buy             0.00\n",
       "bc_util                    0.00\n",
       "chargeoff_within_12_mths   0.00\n",
       "openAccRatio               0.00\n",
       "Length: 70, dtype: float64"
      ]
     },
     "execution_count": 86,
     "metadata": {},
     "output_type": "execute_result"
    }
   ],
   "source": [
    "percent_missing = df.isnull().sum() * 100 / len(df)\n",
    "percent_missing.sort_values(ascending= False)"
   ]
  },
  {
   "cell_type": "code",
   "execution_count": 87,
   "id": "0ce1091d",
   "metadata": {},
   "outputs": [
    {
     "data": {
      "text/plain": [
       "(109874, 70)"
      ]
     },
     "execution_count": 87,
     "metadata": {},
     "output_type": "execute_result"
    }
   ],
   "source": [
    "df.shape"
   ]
  },
  {
   "cell_type": "code",
   "execution_count": 88,
   "id": "24185d64",
   "metadata": {},
   "outputs": [
    {
     "data": {
      "text/html": [
       "<div>\n",
       "<style scoped>\n",
       "    .dataframe tbody tr th:only-of-type {\n",
       "        vertical-align: middle;\n",
       "    }\n",
       "\n",
       "    .dataframe tbody tr th {\n",
       "        vertical-align: top;\n",
       "    }\n",
       "\n",
       "    .dataframe thead th {\n",
       "        text-align: right;\n",
       "    }\n",
       "</style>\n",
       "<table border=\"1\" class=\"dataframe\">\n",
       "  <thead>\n",
       "    <tr style=\"text-align: right;\">\n",
       "      <th></th>\n",
       "      <th>loan_amnt</th>\n",
       "      <th>funded_amnt</th>\n",
       "      <th>int_rate</th>\n",
       "      <th>installment</th>\n",
       "      <th>grade</th>\n",
       "      <th>sub_grade</th>\n",
       "      <th>emp_length</th>\n",
       "      <th>home_ownership</th>\n",
       "      <th>annual_inc</th>\n",
       "      <th>verification_status</th>\n",
       "      <th>...</th>\n",
       "      <th>tot_hi_cred_lim</th>\n",
       "      <th>total_bal_ex_mort</th>\n",
       "      <th>total_bc_limit</th>\n",
       "      <th>total_il_high_credit_limit</th>\n",
       "      <th>annRet</th>\n",
       "      <th>actualTerm</th>\n",
       "      <th>actualReturn</th>\n",
       "      <th>propSatisBankcardAccts</th>\n",
       "      <th>borrHistory</th>\n",
       "      <th>openAccRatio</th>\n",
       "    </tr>\n",
       "  </thead>\n",
       "  <tbody>\n",
       "    <tr>\n",
       "      <th>0</th>\n",
       "      <td>4400</td>\n",
       "      <td>4400</td>\n",
       "      <td>22.99</td>\n",
       "      <td>170.30</td>\n",
       "      <td>F</td>\n",
       "      <td>F1</td>\n",
       "      <td>3 years</td>\n",
       "      <td>RENT</td>\n",
       "      <td>22000.00</td>\n",
       "      <td>Source Verified</td>\n",
       "      <td>...</td>\n",
       "      <td>11844.00</td>\n",
       "      <td>10067.00</td>\n",
       "      <td>1300.00</td>\n",
       "      <td>10044.00</td>\n",
       "      <td>13.03</td>\n",
       "      <td>3.00</td>\n",
       "      <td>13.02</td>\n",
       "      <td>1.00</td>\n",
       "      <td>3.58</td>\n",
       "      <td>0.80</td>\n",
       "    </tr>\n",
       "    <tr>\n",
       "      <th>1</th>\n",
       "      <td>5850</td>\n",
       "      <td>5850</td>\n",
       "      <td>21.99</td>\n",
       "      <td>223.39</td>\n",
       "      <td>E</td>\n",
       "      <td>E4</td>\n",
       "      <td>&lt; 1 year</td>\n",
       "      <td>MORTGAGE</td>\n",
       "      <td>19500.00</td>\n",
       "      <td>Verified</td>\n",
       "      <td>...</td>\n",
       "      <td>68500.00</td>\n",
       "      <td>1700.00</td>\n",
       "      <td>2500.00</td>\n",
       "      <td>0.00</td>\n",
       "      <td>3.00</td>\n",
       "      <td>0.83</td>\n",
       "      <td>10.81</td>\n",
       "      <td>1.00</td>\n",
       "      <td>7.42</td>\n",
       "      <td>0.50</td>\n",
       "    </tr>\n",
       "    <tr>\n",
       "      <th>2</th>\n",
       "      <td>5000</td>\n",
       "      <td>5000</td>\n",
       "      <td>6.24</td>\n",
       "      <td>152.66</td>\n",
       "      <td>A</td>\n",
       "      <td>A2</td>\n",
       "      <td>6 years</td>\n",
       "      <td>MORTGAGE</td>\n",
       "      <td>48824.00</td>\n",
       "      <td>Source Verified</td>\n",
       "      <td>...</td>\n",
       "      <td>63200.00</td>\n",
       "      <td>31681.00</td>\n",
       "      <td>43200.00</td>\n",
       "      <td>20000.00</td>\n",
       "      <td>3.31</td>\n",
       "      <td>3.00</td>\n",
       "      <td>3.30</td>\n",
       "      <td>0.50</td>\n",
       "      <td>20.59</td>\n",
       "      <td>0.33</td>\n",
       "    </tr>\n",
       "    <tr>\n",
       "      <th>3</th>\n",
       "      <td>1600</td>\n",
       "      <td>1600</td>\n",
       "      <td>14.99</td>\n",
       "      <td>55.46</td>\n",
       "      <td>C</td>\n",
       "      <td>C5</td>\n",
       "      <td>10+ years</td>\n",
       "      <td>MORTGAGE</td>\n",
       "      <td>50000.00</td>\n",
       "      <td>Source Verified</td>\n",
       "      <td>...</td>\n",
       "      <td>251137.00</td>\n",
       "      <td>148079.00</td>\n",
       "      <td>20600.00</td>\n",
       "      <td>124737.00</td>\n",
       "      <td>4.99</td>\n",
       "      <td>1.08</td>\n",
       "      <td>13.81</td>\n",
       "      <td>0.46</td>\n",
       "      <td>18.51</td>\n",
       "      <td>0.35</td>\n",
       "    </tr>\n",
       "    <tr>\n",
       "      <th>4</th>\n",
       "      <td>16000</td>\n",
       "      <td>16000</td>\n",
       "      <td>9.17</td>\n",
       "      <td>510.07</td>\n",
       "      <td>B</td>\n",
       "      <td>B2</td>\n",
       "      <td>10+ years</td>\n",
       "      <td>MORTGAGE</td>\n",
       "      <td>114000.00</td>\n",
       "      <td>Not Verified</td>\n",
       "      <td>...</td>\n",
       "      <td>117947.00</td>\n",
       "      <td>80871.00</td>\n",
       "      <td>20000.00</td>\n",
       "      <td>62047.00</td>\n",
       "      <td>4.43</td>\n",
       "      <td>2.09</td>\n",
       "      <td>6.37</td>\n",
       "      <td>0.50</td>\n",
       "      <td>14.25</td>\n",
       "      <td>0.33</td>\n",
       "    </tr>\n",
       "  </tbody>\n",
       "</table>\n",
       "<p>5 rows × 70 columns</p>\n",
       "</div>"
      ],
      "text/plain": [
       "   loan_amnt  funded_amnt  int_rate  installment grade sub_grade emp_length  \\\n",
       "0       4400         4400     22.99       170.30     F        F1    3 years   \n",
       "1       5850         5850     21.99       223.39     E        E4   < 1 year   \n",
       "2       5000         5000      6.24       152.66     A        A2    6 years   \n",
       "3       1600         1600     14.99        55.46     C        C5  10+ years   \n",
       "4      16000        16000      9.17       510.07     B        B2  10+ years   \n",
       "\n",
       "  home_ownership  annual_inc verification_status  ... tot_hi_cred_lim  \\\n",
       "0           RENT    22000.00     Source Verified  ...        11844.00   \n",
       "1       MORTGAGE    19500.00            Verified  ...        68500.00   \n",
       "2       MORTGAGE    48824.00     Source Verified  ...        63200.00   \n",
       "3       MORTGAGE    50000.00     Source Verified  ...       251137.00   \n",
       "4       MORTGAGE   114000.00        Not Verified  ...       117947.00   \n",
       "\n",
       "  total_bal_ex_mort total_bc_limit  total_il_high_credit_limit  annRet  \\\n",
       "0          10067.00        1300.00                    10044.00   13.03   \n",
       "1           1700.00        2500.00                        0.00    3.00   \n",
       "2          31681.00       43200.00                    20000.00    3.31   \n",
       "3         148079.00       20600.00                   124737.00    4.99   \n",
       "4          80871.00       20000.00                    62047.00    4.43   \n",
       "\n",
       "   actualTerm  actualReturn  propSatisBankcardAccts  borrHistory  openAccRatio  \n",
       "0        3.00         13.02                    1.00         3.58          0.80  \n",
       "1        0.83         10.81                    1.00         7.42          0.50  \n",
       "2        3.00          3.30                    0.50        20.59          0.33  \n",
       "3        1.08         13.81                    0.46        18.51          0.35  \n",
       "4        2.09          6.37                    0.50        14.25          0.33  \n",
       "\n",
       "[5 rows x 70 columns]"
      ]
     },
     "execution_count": 88,
     "metadata": {},
     "output_type": "execute_result"
    }
   ],
   "source": [
    "df.head()"
   ]
  },
  {
   "cell_type": "code",
   "execution_count": 89,
   "id": "25f0a003",
   "metadata": {},
   "outputs": [
    {
     "data": {
      "text/plain": [
       "(109874, 66)"
      ]
     },
     "execution_count": 89,
     "metadata": {},
     "output_type": "execute_result"
    }
   ],
   "source": [
    "varsOmit = ['actualTerm', 'actualReturn', 'annRet', 'total_pymnt']\n",
    "loan_df = df.drop(columns=varsOmit)\n",
    "loan_df.shape"
   ]
  },
  {
   "cell_type": "code",
   "execution_count": 90,
   "id": "518c81a6",
   "metadata": {},
   "outputs": [
    {
     "data": {
      "text/plain": [
       "dtype('float64')"
      ]
     },
     "execution_count": 90,
     "metadata": {},
     "output_type": "execute_result"
    }
   ],
   "source": [
    "df['mths_since_last_delinq'].dtypes"
   ]
  },
  {
   "cell_type": "code",
   "execution_count": 91,
   "id": "2043d19f",
   "metadata": {},
   "outputs": [
    {
     "data": {
      "text/plain": [
       "dtype('float64')"
      ]
     },
     "execution_count": 91,
     "metadata": {},
     "output_type": "execute_result"
    }
   ],
   "source": [
    "df['borrHistory'].dtypes"
   ]
  },
  {
   "cell_type": "code",
   "execution_count": 92,
   "id": "6b182e07",
   "metadata": {},
   "outputs": [
    {
     "data": {
      "text/plain": [
       "dtype('<M8[ns]')"
      ]
     },
     "execution_count": 92,
     "metadata": {},
     "output_type": "execute_result"
    }
   ],
   "source": [
    "df['issue_d'].dtypes"
   ]
  },
  {
   "cell_type": "code",
   "execution_count": 93,
   "id": "79968153",
   "metadata": {},
   "outputs": [],
   "source": [
    "# Extracting year, month, and day from the 'issue_d' datetime feature\n",
    "loan_df['issue_year'] = loan_df['issue_d'].dt.year\n",
    "loan_df['issue_month'] = loan_df['issue_d'].dt.month\n",
    "loan_df['issue_day'] = loan_df['issue_d'].dt.day\n",
    "\n",
    "# Dropping the original 'issue_d' datetime column\n",
    "loan_df.drop(['issue_d'], axis=1, inplace=True)\n"
   ]
  },
  {
   "cell_type": "code",
   "execution_count": 94,
   "id": "b2555f38",
   "metadata": {},
   "outputs": [
    {
     "data": {
      "text/plain": [
       "Fully Paid     94567\n",
       "Charged Off    15307\n",
       "Name: loan_status, dtype: int64"
      ]
     },
     "execution_count": 94,
     "metadata": {},
     "output_type": "execute_result"
    }
   ],
   "source": [
    "loan_df['loan_status'].value_counts()"
   ]
  },
  {
   "cell_type": "code",
   "execution_count": 95,
   "id": "a9c07c14",
   "metadata": {},
   "outputs": [
    {
     "data": {
      "text/plain": [
       "loan_amnt       0\n",
       "funded_amnt     0\n",
       "int_rate        0\n",
       "installment     0\n",
       "grade           0\n",
       "               ..\n",
       "borrHistory     0\n",
       "openAccRatio    0\n",
       "issue_year      0\n",
       "issue_month     0\n",
       "issue_day       0\n",
       "Length: 68, dtype: int64"
      ]
     },
     "execution_count": 95,
     "metadata": {},
     "output_type": "execute_result"
    }
   ],
   "source": [
    "loan_df.isnull().sum()"
   ]
  },
  {
   "cell_type": "code",
   "execution_count": 96,
   "id": "693559d2",
   "metadata": {},
   "outputs": [],
   "source": [
    "X = loan_df.drop('loan_status', axis = 1)\n",
    "y = loan_df['loan_status']"
   ]
  },
  {
   "cell_type": "code",
   "execution_count": 97,
   "id": "5f902f39",
   "metadata": {},
   "outputs": [],
   "source": [
    "object_vars=X.select_dtypes(include='object').columns.tolist()\n",
    "X = pd.get_dummies(X,columns=object_vars,drop_first=True) "
   ]
  },
  {
   "cell_type": "code",
   "execution_count": 98,
   "id": "8bab4f64",
   "metadata": {},
   "outputs": [],
   "source": [
    "from sklearn.preprocessing import LabelEncoder\n",
    "\n",
    "label_encoder = LabelEncoder()\n",
    "y = label_encoder.fit_transform(y)"
   ]
  },
  {
   "cell_type": "code",
   "execution_count": 99,
   "id": "9c6d7bf3",
   "metadata": {},
   "outputs": [
    {
     "data": {
      "text/plain": [
       "array([1, 1, 1, ..., 1, 1, 0])"
      ]
     },
     "execution_count": 99,
     "metadata": {},
     "output_type": "execute_result"
    }
   ],
   "source": [
    "y"
   ]
  },
  {
   "cell_type": "code",
   "execution_count": 100,
   "id": "675c933e",
   "metadata": {},
   "outputs": [],
   "source": [
    "feature_names = X.columns"
   ]
  },
  {
   "cell_type": "code",
   "execution_count": 101,
   "id": "7927f61f",
   "metadata": {},
   "outputs": [
    {
     "name": "stdout",
     "output_type": "stream",
     "text": [
      "['emp_length_< 1 year']\n"
     ]
    }
   ],
   "source": [
    "# Assuming feature_names is a list of feature names\n",
    "name_issue = []\n",
    "\n",
    "for name in feature_names:\n",
    "    if '[' in name or ']' in name or '<' in name:\n",
    "        name_issue.append(name)\n",
    "\n",
    "print(name_issue)\n"
   ]
  },
  {
   "cell_type": "code",
   "execution_count": 102,
   "id": "f952decc",
   "metadata": {},
   "outputs": [],
   "source": [
    "X.rename(columns={'emp_length_< 1 year': 'emp_length_lessthan1 year'}, inplace= True)"
   ]
  },
  {
   "cell_type": "code",
   "execution_count": 103,
   "id": "e83626ed",
   "metadata": {},
   "outputs": [
    {
     "data": {
      "text/plain": [
       "0         0\n",
       "1         1\n",
       "2         0\n",
       "3         0\n",
       "4         0\n",
       "         ..\n",
       "109995    0\n",
       "109996    0\n",
       "109997    1\n",
       "109998    0\n",
       "109999    0\n",
       "Name: emp_length_lessthan1 year, Length: 109874, dtype: uint8"
      ]
     },
     "execution_count": 103,
     "metadata": {},
     "output_type": "execute_result"
    }
   ],
   "source": [
    "X['emp_length_lessthan1 year']"
   ]
  },
  {
   "cell_type": "code",
   "execution_count": 104,
   "id": "25f44a8e",
   "metadata": {},
   "outputs": [
    {
     "name": "stdout",
     "output_type": "stream",
     "text": [
      "Class 0 Label: Charged Off, Encoded Value: 0\n",
      "Class 1 Label: Fully Paid, Encoded Value: 1\n"
     ]
    }
   ],
   "source": [
    "class_0_label = label_encoder.classes_[0]\n",
    "class_1_label = label_encoder.classes_[1]\n",
    "\n",
    "print(f\"Class 0 Label: {class_0_label}, Encoded Value: 0\")\n",
    "print(f\"Class 1 Label: {class_1_label}, Encoded Value: 1\")"
   ]
  },
  {
   "cell_type": "code",
   "execution_count": 105,
   "id": "17c4b736",
   "metadata": {},
   "outputs": [],
   "source": [
    "X_train, X_test, y_train, y_test = train_test_split(X, y, test_size=0.2, random_state=42)"
   ]
  },
  {
   "cell_type": "code",
   "execution_count": 106,
   "id": "fb104280",
   "metadata": {},
   "outputs": [],
   "source": [
    "pd.set_option('display.max_rows', None)"
   ]
  },
  {
   "cell_type": "code",
   "execution_count": 107,
   "id": "59851471",
   "metadata": {},
   "outputs": [
    {
     "name": "stdout",
     "output_type": "stream",
     "text": [
      "Requirement already satisfied: tqdm in c:\\users\\somya\\anaconda3\\lib\\site-packages (4.59.0)\n",
      "Note: you may need to restart the kernel to use updated packages.\n"
     ]
    }
   ],
   "source": [
    "pip install tqdm"
   ]
  },
  {
   "cell_type": "code",
   "execution_count": 108,
   "id": "8238c7c6",
   "metadata": {},
   "outputs": [
    {
     "name": "stderr",
     "output_type": "stream",
     "text": [
      "Training Random Forest: 100%|████████████████████████████████████████████████████████| 100/100 [03:05<00:00,  1.85s/it]\n"
     ]
    },
    {
     "name": "stdout",
     "output_type": "stream",
     "text": [
      "Random Forest Classifier:\n",
      "Accuracy: 0.86\n",
      "Confusion Matrix:\n",
      "[[    0  3056]\n",
      " [    2 18917]]\n",
      "\n",
      "Classification Report:\n",
      "              precision    recall  f1-score   support\n",
      "\n",
      "           0       0.00      0.00      0.00      3056\n",
      "           1       0.86      1.00      0.93     18919\n",
      "\n",
      "    accuracy                           0.86     21975\n",
      "   macro avg       0.43      0.50      0.46     21975\n",
      "weighted avg       0.74      0.86      0.80     21975\n",
      "\n"
     ]
    }
   ],
   "source": [
    "from sklearn.ensemble import RandomForestClassifier\n",
    "from sklearn.metrics import classification_report, confusion_matrix, accuracy_score\n",
    "from tqdm import tqdm\n",
    "\n",
    "rf_classifier = RandomForestClassifier(class_weight='balanced', random_state=42)\n",
    "\n",
    "with tqdm(total=100, desc=\"Training Random Forest\") as pbar:\n",
    "    rf_classifier.fit(X_train, y_train)\n",
    "    pbar.update(100)\n",
    "\n",
    "# Making predictions on the test data\n",
    "y_pred_rf = rf_classifier.predict(X_test)\n",
    "\n",
    "# Evaluating the RandomForestClassifier's performance\n",
    "accuracy_rf = accuracy_score(y_test, y_pred_rf)\n",
    "conf_matrix_rf = confusion_matrix(y_test, y_pred_rf)\n",
    "classification_rep_rf = classification_report(y_test, y_pred_rf)\n",
    "\n",
    "print(\"Random Forest Classifier:\")\n",
    "print(f\"Accuracy: {accuracy_rf:.2f}\")\n",
    "print(\"Confusion Matrix:\")\n",
    "print(conf_matrix_rf)\n",
    "print(\"\\nClassification Report:\")\n",
    "print(classification_rep_rf)\n"
   ]
  },
  {
   "cell_type": "code",
   "execution_count": 109,
   "id": "70d91800",
   "metadata": {},
   "outputs": [
    {
     "name": "stderr",
     "output_type": "stream",
     "text": [
      "Training Random Forest: 100%|████████████████████████████████████████████████████████| 100/100 [05:49<00:00,  3.50s/it]\n"
     ]
    },
    {
     "name": "stdout",
     "output_type": "stream",
     "text": [
      "Random Forest Classifier after SMOTE Resampling:\n",
      "Accuracy: 0.86\n",
      "Confusion Matrix:\n",
      "[[   41  3015]\n",
      " [   66 18853]]\n",
      "\n",
      "Classification Report:\n",
      "              precision    recall  f1-score   support\n",
      "\n",
      "           0       0.38      0.01      0.03      3056\n",
      "           1       0.86      1.00      0.92     18919\n",
      "\n",
      "    accuracy                           0.86     21975\n",
      "   macro avg       0.62      0.50      0.48     21975\n",
      "weighted avg       0.80      0.86      0.80     21975\n",
      "\n"
     ]
    }
   ],
   "source": [
    "#Using Smote to handle class imbalance\n",
    "from imblearn.over_sampling import SMOTE\n",
    "\n",
    "rf_classifier = RandomForestClassifier(random_state=42)\n",
    "\n",
    "smote = SMOTE(random_state=42)\n",
    "X_train_resampled, y_train_resampled = smote.fit_resample(X_train, y_train)\n",
    "\n",
    "with tqdm(total=100, desc=\"Training Random Forest\") as pbar:\n",
    "    rf_classifier.fit(X_train_resampled, y_train_resampled)\n",
    "    pbar.update(100)\n",
    "\n",
    "y_pred_rf = rf_classifier.predict(X_test)\n",
    "\n",
    "# Evaluating the RandomForestClassifier's performance\n",
    "accuracy_rf = accuracy_score(y_test, y_pred_rf)\n",
    "conf_matrix_rf = confusion_matrix(y_test, y_pred_rf)\n",
    "classification_rep_rf = classification_report(y_test, y_pred_rf)\n",
    "\n",
    "print(\"Random Forest Classifier after SMOTE Resampling:\")\n",
    "print(f\"Accuracy: {accuracy_rf:.2f}\")\n",
    "print(\"Confusion Matrix:\")\n",
    "print(conf_matrix_rf)\n",
    "print(\"\\nClassification Report:\")\n",
    "print(classification_rep_rf)\n"
   ]
  },
  {
   "cell_type": "code",
   "execution_count": 110,
   "id": "262c8c43",
   "metadata": {},
   "outputs": [
    {
     "name": "stderr",
     "output_type": "stream",
     "text": [
      "\r",
      "Training XGBoost (Weight=1.0):   0%|                                                         | 0/87899 [00:00<?, ?it/s]"
     ]
    },
    {
     "name": "stdout",
     "output_type": "stream",
     "text": [
      "[18:07:23] WARNING: C:/Users/Administrator/workspace/xgboost-win64_release_1.6.0/src/learner.cc:627: \n",
      "Parameters: { \"scale_neg_weight\" } might not be used.\n",
      "\n",
      "  This could be a false alarm, with some parameters getting used by language bindings but\n",
      "  then being mistakenly passed down to XGBoost core, or some parameter actually being used\n",
      "  but getting flagged wrongly here. Please open an issue if you find any such cases.\n",
      "\n",
      "\n"
     ]
    },
    {
     "name": "stderr",
     "output_type": "stream",
     "text": [
      "Training XGBoost (Weight=1.0): 100%|███████████████████████████████████████████| 87899/87899 [00:14<00:00, 5868.21it/s]\n",
      "Training XGBoost (Weight=2.0):   0%|                                                         | 0/87899 [00:00<?, ?it/s]"
     ]
    },
    {
     "name": "stdout",
     "output_type": "stream",
     "text": [
      "[18:07:38] WARNING: C:/Users/Administrator/workspace/xgboost-win64_release_1.6.0/src/learner.cc:627: \n",
      "Parameters: { \"scale_neg_weight\" } might not be used.\n",
      "\n",
      "  This could be a false alarm, with some parameters getting used by language bindings but\n",
      "  then being mistakenly passed down to XGBoost core, or some parameter actually being used\n",
      "  but getting flagged wrongly here. Please open an issue if you find any such cases.\n",
      "\n",
      "\n"
     ]
    },
    {
     "name": "stderr",
     "output_type": "stream",
     "text": [
      "Training XGBoost (Weight=2.0): 100%|███████████████████████████████████████████| 87899/87899 [00:14<00:00, 6251.32it/s]\n",
      "Training XGBoost (Weight=3.0):   0%|                                                         | 0/87899 [00:00<?, ?it/s]"
     ]
    },
    {
     "name": "stdout",
     "output_type": "stream",
     "text": [
      "[18:07:52] WARNING: C:/Users/Administrator/workspace/xgboost-win64_release_1.6.0/src/learner.cc:627: \n",
      "Parameters: { \"scale_neg_weight\" } might not be used.\n",
      "\n",
      "  This could be a false alarm, with some parameters getting used by language bindings but\n",
      "  then being mistakenly passed down to XGBoost core, or some parameter actually being used\n",
      "  but getting flagged wrongly here. Please open an issue if you find any such cases.\n",
      "\n",
      "\n"
     ]
    },
    {
     "name": "stderr",
     "output_type": "stream",
     "text": [
      "Training XGBoost (Weight=3.0): 100%|███████████████████████████████████████████| 87899/87899 [00:15<00:00, 5569.22it/s]\n",
      "Training XGBoost (Weight=4.0):   0%|                                                         | 0/87899 [00:00<?, ?it/s]"
     ]
    },
    {
     "name": "stdout",
     "output_type": "stream",
     "text": [
      "[18:08:08] WARNING: C:/Users/Administrator/workspace/xgboost-win64_release_1.6.0/src/learner.cc:627: \n",
      "Parameters: { \"scale_neg_weight\" } might not be used.\n",
      "\n",
      "  This could be a false alarm, with some parameters getting used by language bindings but\n",
      "  then being mistakenly passed down to XGBoost core, or some parameter actually being used\n",
      "  but getting flagged wrongly here. Please open an issue if you find any such cases.\n",
      "\n",
      "\n"
     ]
    },
    {
     "name": "stderr",
     "output_type": "stream",
     "text": [
      "Training XGBoost (Weight=4.0): 100%|███████████████████████████████████████████| 87899/87899 [00:15<00:00, 5617.30it/s]\n",
      "Training XGBoost (Weight=5.0):   0%|                                                         | 0/87899 [00:00<?, ?it/s]"
     ]
    },
    {
     "name": "stdout",
     "output_type": "stream",
     "text": [
      "[18:08:24] WARNING: C:/Users/Administrator/workspace/xgboost-win64_release_1.6.0/src/learner.cc:627: \n",
      "Parameters: { \"scale_neg_weight\" } might not be used.\n",
      "\n",
      "  This could be a false alarm, with some parameters getting used by language bindings but\n",
      "  then being mistakenly passed down to XGBoost core, or some parameter actually being used\n",
      "  but getting flagged wrongly here. Please open an issue if you find any such cases.\n",
      "\n",
      "\n"
     ]
    },
    {
     "name": "stderr",
     "output_type": "stream",
     "text": [
      "Training XGBoost (Weight=5.0): 100%|███████████████████████████████████████████| 87899/87899 [00:17<00:00, 4885.90it/s]"
     ]
    },
    {
     "name": "stdout",
     "output_type": "stream",
     "text": [
      "Best Class 0 Weight: 1.0\n"
     ]
    },
    {
     "name": "stderr",
     "output_type": "stream",
     "text": [
      "\n"
     ]
    }
   ],
   "source": [
    "import xgboost as xgb\n",
    "from sklearn.metrics import f1_score\n",
    "\n",
    "# Range of weight values for Class 0 (Charged Off)\n",
    "weight_values = [1.0, 2.0, 3.0, 4.0, 5.0]  \n",
    "\n",
    "best_weights = None\n",
    "best_metric = 0.0  \n",
    "\n",
    "for weight in weight_values:\n",
    "    # Creating an XGBoost classifier with the current weight settings\n",
    "    xgb_classifier = xgb.XGBClassifier(random_state=42, scale_pos_weight=1.0, scale_neg_weight=weight)\n",
    "    \n",
    "    # Fitting the model on the training data with tqdm\n",
    "    with tqdm(total=len(X_train), desc=f\"Training XGBoost (Weight={weight})\") as pbar:\n",
    "        xgb_classifier.fit(X_train, y_train)\n",
    "        pbar.update(len(X_train))  # Update the progress bar\n",
    "    \n",
    "    # Predictions on the test data\n",
    "    y_pred_xgb = xgb_classifier.predict(X_test)\n",
    "    \n",
    "    #Evaluating performance\n",
    "    metric = f1_score(y_test, y_pred_xgb, average='weighted')\n",
    "    \n",
    "    if metric > best_metric:\n",
    "        best_metric = metric\n",
    "        best_weights = weight\n",
    "\n",
    "print(f\"Best Class 0 Weight: {best_weights}\")"
   ]
  },
  {
   "cell_type": "code",
   "execution_count": 111,
   "id": "b69404fa",
   "metadata": {},
   "outputs": [
    {
     "name": "stderr",
     "output_type": "stream",
     "text": [
      "Training XGBoost (Weight=1.0): 100%|███████████████████████████████████████████| 87899/87899 [00:15<00:00, 5682.76it/s]"
     ]
    },
    {
     "name": "stdout",
     "output_type": "stream",
     "text": [
      "Classification Report for Each Class:\n",
      "                       precision    recall  f1-score   support\n",
      "\n",
      "Class 0 (Charged Off)       0.38      0.03      0.05      3056\n",
      " Class 1 (Fully Paid)       0.86      0.99      0.92     18919\n",
      "\n",
      "             accuracy                           0.86     21975\n",
      "            macro avg       0.62      0.51      0.49     21975\n",
      "         weighted avg       0.80      0.86      0.80     21975\n",
      "\n",
      "\n",
      "Confusion Matrix for Class 0 (Charged Off):\n",
      "[[   88  2968]\n",
      " [  142 18777]]\n",
      "\n",
      "Confusion Matrix for Class 1 (Fully Paid):\n",
      "[[18777   142]\n",
      " [ 2968    88]]\n"
     ]
    },
    {
     "name": "stderr",
     "output_type": "stream",
     "text": [
      "\n"
     ]
    }
   ],
   "source": [
    "# Define class weights (1.0 for both classes)\n",
    "class_weights = {\n",
    "    0: 1.0,  # Weight for Class 0 (Charged Off)\n",
    "    1: 1.0   # Weight for Class 1 (Fully Paid)\n",
    "}\n",
    "\n",
    "xgb_classifier = xgb.XGBClassifier(random_state=42, scale_pos_weight=class_weights[1])\n",
    "\n",
    "# Fit the model on the training data with tqdm\n",
    "with tqdm(total=len(X_train), desc=\"Training XGBoost (Weight=1.0)\") as pbar:\n",
    "    xgb_classifier.fit(X_train, y_train)\n",
    "    pbar.update(len(X_train))  # Updating the progress bar\n",
    "\n",
    "# Predictions on the test data\n",
    "y_pred_xgb = xgb_classifier.predict(X_test)\n",
    "\n",
    "classification_report_per_class = classification_report(y_test, y_pred_xgb, target_names=[\"Class 0 (Charged Off)\", \"Class 1 (Fully Paid)\"])\n",
    "print(\"Classification Report for Each Class:\")\n",
    "print(classification_report_per_class)\n",
    "\n",
    "# Calculate and display the confusion matrix for each class separately\n",
    "confusion_matrix_class_0 = confusion_matrix(y_test, y_pred_xgb, labels=[0, 1])\n",
    "confusion_matrix_class_1 = confusion_matrix(y_test, y_pred_xgb, labels=[1, 0])\n",
    "\n",
    "print(\"\\nConfusion Matrix for Class 0 (Charged Off):\")\n",
    "print(confusion_matrix_class_0)\n",
    "\n",
    "print(\"\\nConfusion Matrix for Class 1 (Fully Paid):\")\n",
    "print(confusion_matrix_class_1)"
   ]
  },
  {
   "cell_type": "code",
   "execution_count": 112,
   "id": "b5af1385",
   "metadata": {},
   "outputs": [
    {
     "name": "stdout",
     "output_type": "stream",
     "text": [
      "Requirement already satisfied: lightgbm in c:\\users\\somya\\anaconda3\\lib\\site-packages (4.1.0)Note: you may need to restart the kernel to use updated packages.\n",
      "Requirement already satisfied: scipy in c:\\users\\somya\\anaconda3\\lib\\site-packages (from lightgbm) (1.6.2)\n",
      "\n",
      "Requirement already satisfied: numpy in c:\\users\\somya\\anaconda3\\lib\\site-packages (from lightgbm) (1.20.1)\n"
     ]
    }
   ],
   "source": [
    "pip install lightgbm"
   ]
  },
  {
   "cell_type": "code",
   "execution_count": 113,
   "id": "810dc5b5",
   "metadata": {},
   "outputs": [
    {
     "name": "stderr",
     "output_type": "stream",
     "text": [
      "\r",
      "Training LightGBM (Weight=1.0):   0%|                                                        | 0/87899 [00:00<?, ?it/s]"
     ]
    },
    {
     "name": "stdout",
     "output_type": "stream",
     "text": [
      "[LightGBM] [Warning] Found whitespace in feature_names, replace with underlines\n",
      "[LightGBM] [Info] Number of positive: 75648, number of negative: 12251\n",
      "[LightGBM] [Info] Auto-choosing col-wise multi-threading, the overhead of testing was 0.028961 seconds.\n",
      "You can set `force_col_wise=true` to remove the overhead.\n",
      "[LightGBM] [Info] Total Bins 7594\n",
      "[LightGBM] [Info] Number of data points in the train set: 87899, number of used features: 123\n",
      "[LightGBM] [Info] [binary:BoostFromScore]: pavg=0.860624 -> initscore=1.820483\n",
      "[LightGBM] [Info] Start training from score 1.820483\n"
     ]
    },
    {
     "name": "stderr",
     "output_type": "stream",
     "text": [
      "Training LightGBM (Weight=1.0): 100%|█████████████████████████████████████████| 87899/87899 [00:02<00:00, 41633.71it/s]\n",
      "Training LightGBM (Weight=2.0):   0%|                                                        | 0/87899 [00:00<?, ?it/s]"
     ]
    },
    {
     "name": "stdout",
     "output_type": "stream",
     "text": [
      "[LightGBM] [Warning] Found whitespace in feature_names, replace with underlines\n",
      "[LightGBM] [Info] Number of positive: 75648, number of negative: 12251\n",
      "[LightGBM] [Info] Auto-choosing col-wise multi-threading, the overhead of testing was 0.025867 seconds.\n",
      "You can set `force_col_wise=true` to remove the overhead.\n",
      "[LightGBM] [Info] Total Bins 7594\n",
      "[LightGBM] [Info] Number of data points in the train set: 87899, number of used features: 123\n",
      "[LightGBM] [Info] [binary:BoostFromScore]: pavg=0.755347 -> initscore=1.127336\n",
      "[LightGBM] [Info] Start training from score 1.127336\n"
     ]
    },
    {
     "name": "stderr",
     "output_type": "stream",
     "text": [
      "Training LightGBM (Weight=2.0): 100%|█████████████████████████████████████████| 87899/87899 [00:01<00:00, 52609.42it/s]\n",
      "Training LightGBM (Weight=3.0):   0%|                                                        | 0/87899 [00:00<?, ?it/s]"
     ]
    },
    {
     "name": "stdout",
     "output_type": "stream",
     "text": [
      "[LightGBM] [Warning] Found whitespace in feature_names, replace with underlines\n",
      "[LightGBM] [Info] Number of positive: 75648, number of negative: 12251\n",
      "[LightGBM] [Info] Auto-choosing col-wise multi-threading, the overhead of testing was 0.038290 seconds.\n",
      "You can set `force_col_wise=true` to remove the overhead.\n",
      "[LightGBM] [Info] Total Bins 7594\n",
      "[LightGBM] [Info] Number of data points in the train set: 87899, number of used features: 123\n",
      "[LightGBM] [Info] [binary:BoostFromScore]: pavg=0.673019 -> initscore=0.721871\n",
      "[LightGBM] [Info] Start training from score 0.721871\n"
     ]
    },
    {
     "name": "stderr",
     "output_type": "stream",
     "text": [
      "Training LightGBM (Weight=3.0): 100%|█████████████████████████████████████████| 87899/87899 [00:01<00:00, 44326.45it/s]\n",
      "Training LightGBM (Weight=4.0):   0%|                                                        | 0/87899 [00:00<?, ?it/s]"
     ]
    },
    {
     "name": "stdout",
     "output_type": "stream",
     "text": [
      "[LightGBM] [Warning] Found whitespace in feature_names, replace with underlines\n",
      "[LightGBM] [Info] Number of positive: 75648, number of negative: 12251\n",
      "[LightGBM] [Info] Auto-choosing col-wise multi-threading, the overhead of testing was 0.025966 seconds.\n",
      "You can set `force_col_wise=true` to remove the overhead.\n",
      "[LightGBM] [Info] Total Bins 7594\n",
      "[LightGBM] [Info] Number of data points in the train set: 87899, number of used features: 123\n",
      "[LightGBM] [Info] [binary:BoostFromScore]: pavg=0.606874 -> initscore=0.434189\n",
      "[LightGBM] [Info] Start training from score 0.434189\n"
     ]
    },
    {
     "name": "stderr",
     "output_type": "stream",
     "text": [
      "Training LightGBM (Weight=4.0): 100%|█████████████████████████████████████████| 87899/87899 [00:02<00:00, 38612.21it/s]\n",
      "Training LightGBM (Weight=5.0):   0%|                                                        | 0/87899 [00:00<?, ?it/s]"
     ]
    },
    {
     "name": "stdout",
     "output_type": "stream",
     "text": [
      "[LightGBM] [Warning] Found whitespace in feature_names, replace with underlines\n",
      "[LightGBM] [Info] Number of positive: 75648, number of negative: 12251\n",
      "[LightGBM] [Info] Auto-choosing row-wise multi-threading, the overhead of testing was 0.030118 seconds.\n",
      "You can set `force_row_wise=true` to remove the overhead.\n",
      "And if memory is not enough, you can set `force_col_wise=true`.\n",
      "[LightGBM] [Info] Total Bins 7594\n",
      "[LightGBM] [Info] Number of data points in the train set: 87899, number of used features: 123\n",
      "[LightGBM] [Info] [binary:BoostFromScore]: pavg=0.552566 -> initscore=0.211046\n",
      "[LightGBM] [Info] Start training from score 0.211046\n"
     ]
    },
    {
     "name": "stderr",
     "output_type": "stream",
     "text": [
      "Training LightGBM (Weight=5.0): 100%|█████████████████████████████████████████| 87899/87899 [00:03<00:00, 27312.70it/s]"
     ]
    },
    {
     "name": "stdout",
     "output_type": "stream",
     "text": [
      "Best Class 0 Weight: 3.0\n"
     ]
    },
    {
     "name": "stderr",
     "output_type": "stream",
     "text": [
      "\n"
     ]
    }
   ],
   "source": [
    "import lightgbm as lgb\n",
    "\n",
    "# Range of weight values for Class 0 (Charged Off)\n",
    "weight_values = [1.0, 2.0, 3.0, 4.0, 5.0] \n",
    "\n",
    "# Initializing variables to store the best weights and corresponding evaluation metric\n",
    "best_weights = None\n",
    "best_metric = 0.0  \n",
    "\n",
    "# Iterating through weight values\n",
    "for weight in weight_values:\n",
    "    # Creating a LightGBM classifier with the current weight settings\n",
    "    lgb_classifier = lgb.LGBMClassifier(class_weight={0: weight, 1: 1.0}, random_state=42)\n",
    "    \n",
    "    # Fitting the model on training data with tqdm\n",
    "    with tqdm(total=len(X_train), desc=f\"Training LightGBM (Weight={weight})\") as pbar:\n",
    "        lgb_classifier.fit(X_train, y_train)\n",
    "        pbar.update(len(X_train))  # Update the progress bar\n",
    "    \n",
    "    # Make predictions on the test data\n",
    "    y_pred_lgb = lgb_classifier.predict(X_test)\n",
    "    \n",
    "    metric = f1_score(y_test, y_pred_lgb, average='weighted')\n",
    "    \n",
    "    # Checking if the current weights result in a better metric\n",
    "    if metric > best_metric:\n",
    "        best_metric = metric\n",
    "        best_weights = weight\n",
    "\n",
    "print(f\"Best Class 0 Weight: {best_weights}\")"
   ]
  },
  {
   "cell_type": "code",
   "execution_count": 114,
   "id": "5eb2e6ef",
   "metadata": {},
   "outputs": [
    {
     "name": "stdout",
     "output_type": "stream",
     "text": [
      "[LightGBM] [Warning] Found whitespace in feature_names, replace with underlines\n",
      "[LightGBM] [Info] Number of positive: 75648, number of negative: 12251\n",
      "[LightGBM] [Info] Auto-choosing col-wise multi-threading, the overhead of testing was 0.041426 seconds.\n",
      "You can set `force_col_wise=true` to remove the overhead.\n",
      "[LightGBM] [Info] Total Bins 7594\n",
      "[LightGBM] [Info] Number of data points in the train set: 87899, number of used features: 123\n",
      "[LightGBM] [Info] [binary:BoostFromScore]: pavg=0.673019 -> initscore=0.721871\n",
      "[LightGBM] [Info] Start training from score 0.721871\n",
      "Classification Report for Each Class:\n",
      "                       precision    recall  f1-score   support\n",
      "\n",
      "Class 0 (Charged Off)       0.31      0.22      0.26      3056\n",
      " Class 1 (Fully Paid)       0.88      0.92      0.90     18919\n",
      "\n",
      "             accuracy                           0.82     21975\n",
      "            macro avg       0.59      0.57      0.58     21975\n",
      "         weighted avg       0.80      0.82      0.81     21975\n",
      "\n",
      "\n",
      "Confusion Matrix for Class 0 (Charged Off):\n",
      "[[  670  2386]\n",
      " [ 1489 17430]]\n",
      "\n",
      "Confusion Matrix for Class 1 (Fully Paid):\n",
      "[[17430  1489]\n",
      " [ 2386   670]]\n"
     ]
    }
   ],
   "source": [
    "class_weights = {\n",
    "    0: 3.0,  # Weight for Class 0 (Charged Off)\n",
    "    1: 1.0   # Weight for Class 1 (Fully Paid)\n",
    "}\n",
    "\n",
    "lgb_classifier1 = lgb.LGBMClassifier(class_weight=class_weights, random_state=42)\n",
    "\n",
    "# Fitting the model\n",
    "lgb_classifier1.fit(X_train, y_train)\n",
    "\n",
    "# Make predictions on the test data\n",
    "y_pred_lgb = lgb_classifier1.predict(X_test)\n",
    "\n",
    "# Display the classification report for each class separately\n",
    "classification_report_per_class = classification_report(y_test, y_pred_lgb, target_names=[\"Class 0 (Charged Off)\", \"Class 1 (Fully Paid)\"])\n",
    "print(\"Classification Report for Each Class:\")\n",
    "print(classification_report_per_class)\n",
    "\n",
    "# Calculate and display the confusion matrix for each class separately\n",
    "confusion_matrix_class_0 = confusion_matrix(y_test, y_pred_lgb, labels=[0, 1])\n",
    "confusion_matrix_class_1 = confusion_matrix(y_test, y_pred_lgb, labels=[1, 0])\n",
    "\n",
    "print(\"\\nConfusion Matrix for Class 0 (Charged Off):\")\n",
    "print(confusion_matrix_class_0)\n",
    "\n",
    "print(\"\\nConfusion Matrix for Class 1 (Fully Paid):\")\n",
    "print(confusion_matrix_class_1)\n"
   ]
  },
  {
   "cell_type": "code",
   "execution_count": 115,
   "id": "11fa3ec9",
   "metadata": {},
   "outputs": [
    {
     "name": "stdout",
     "output_type": "stream",
     "text": [
      "[LightGBM] [Warning] Found whitespace in feature_names, replace with underlines\n",
      "[LightGBM] [Info] Number of positive: 75648, number of negative: 12251\n",
      "[LightGBM] [Info] Auto-choosing col-wise multi-threading, the overhead of testing was 0.037576 seconds.\n",
      "You can set `force_col_wise=true` to remove the overhead.\n",
      "[LightGBM] [Info] Total Bins 7594\n",
      "[LightGBM] [Info] Number of data points in the train set: 87899, number of used features: 123\n",
      "[LightGBM] [Info] [binary:BoostFromScore]: pavg=0.552566 -> initscore=0.211046\n",
      "[LightGBM] [Info] Start training from score 0.211046\n",
      "Classification Report for Each Class:\n",
      "                       precision    recall  f1-score   support\n",
      "\n",
      "Class 0 (Charged Off)       0.25      0.51      0.33      3056\n",
      " Class 1 (Fully Paid)       0.90      0.75      0.82     18919\n",
      "\n",
      "             accuracy                           0.71     21975\n",
      "            macro avg       0.58      0.63      0.58     21975\n",
      "         weighted avg       0.81      0.71      0.75     21975\n",
      "\n",
      "\n",
      "Confusion Matrix for Class 0 (Charged Off):\n",
      "[[ 1573  1483]\n",
      " [ 4814 14105]]\n",
      "\n",
      "Confusion Matrix for Class 1 (Fully Paid):\n",
      "[[14105  4814]\n",
      " [ 1483  1573]]\n"
     ]
    }
   ],
   "source": [
    "class_weights = {\n",
    "    0: 5.0,  # Weight for Class 0 (Charged Off)\n",
    "    1: 1.0   # Weight for Class 1 (Fully Paid)\n",
    "}\n",
    "\n",
    "# Create a LightGBM classifier with class weights\n",
    "lgb_classifier2 = lgb.LGBMClassifier(class_weight=class_weights, random_state=42)\n",
    "\n",
    "# Fit the model\n",
    "lgb_classifier2.fit(X_train, y_train)\n",
    "\n",
    "# Make predictions on the test data\n",
    "y_pred_lgb = lgb_classifier2.predict(X_test)\n",
    "\n",
    "# Display the classification report for each class separately\n",
    "classification_report_per_class = classification_report(y_test, y_pred_lgb, target_names=[\"Class 0 (Charged Off)\", \"Class 1 (Fully Paid)\"])\n",
    "print(\"Classification Report for Each Class:\")\n",
    "print(classification_report_per_class)\n",
    "\n",
    "# Calculate and display the confusion matrix for each class separately\n",
    "confusion_matrix_class_0 = confusion_matrix(y_test, y_pred_lgb, labels=[0, 1])\n",
    "confusion_matrix_class_1 = confusion_matrix(y_test, y_pred_lgb, labels=[1, 0])\n",
    "\n",
    "print(\"\\nConfusion Matrix for Class 0 (Charged Off):\")\n",
    "print(confusion_matrix_class_0)\n",
    "\n",
    "print(\"\\nConfusion Matrix for Class 1 (Fully Paid):\")\n",
    "print(confusion_matrix_class_1)"
   ]
  },
  {
   "cell_type": "code",
   "execution_count": 116,
   "id": "16fb0f35",
   "metadata": {},
   "outputs": [
    {
     "data": {
      "image/png": "[encoded data removed]",
      "text/plain": [
       "<Figure size 720x432 with 1 Axes>"
      ]
     },
     "metadata": {
      "needs_background": "light"
     },
     "output_type": "display_data"
    }
   ],
   "source": [
    "# Plotting feature importance\n",
    "lgb.plot_importance(lgb_classifier2, max_num_features=25, figsize=(10, 6), title='Feature Importance')\n",
    "\n",
    "plt.show()"
   ]
  },
  {
   "cell_type": "code",
   "execution_count": 117,
   "id": "cbe03d4d",
   "metadata": {},
   "outputs": [
    {
     "name": "stdout",
     "output_type": "stream",
     "text": [
      "                       Feature  Importance\n",
      "2                     int_rate         144\n",
      "4                   annual_inc         131\n",
      "3                  installment         125\n",
      "5                          dti         122\n",
      "30        mths_since_recent_bc         101\n",
      "11                   revol_bal          99\n",
      "52              total_bc_limit          99\n",
      "25          mo_sin_old_il_acct          94\n",
      "18            total_rev_hi_lim          89\n",
      "26        mo_sin_old_rev_tl_op          88\n",
      "20                 avg_cur_bal          77\n",
      "50             tot_hi_cred_lim          77\n",
      "56                openAccRatio          76\n",
      "19        acc_open_past_24mths          76\n",
      "55                 borrHistory          75\n",
      "21              bc_open_to_buy          75\n",
      "22                     bc_util          74\n",
      "31       mths_since_recent_inq          69\n",
      "0                    loan_amnt          67\n",
      "53  total_il_high_credit_limit          61\n",
      "12                  revol_util          59\n",
      "8       mths_since_last_delinq          57\n",
      "46              pct_tl_nvr_dlq          56\n",
      "27       mo_sin_rcnt_rev_tl_op          54\n",
      "17                 tot_cur_bal          53\n"
     ]
    }
   ],
   "source": [
    "# Get feature importances from the model\n",
    "feature_importance = lgb_classifier2.feature_importances_\n",
    "\n",
    "feature_names = X_train.columns\n",
    "\n",
    "# Creating a DataFrame to store the feature names and their importance scores\n",
    "feature_importance_df = pd.DataFrame({'Feature': feature_names, 'Importance': feature_importance})\n",
    "feature_importance_df = feature_importance_df.sort_values(by='Importance', ascending=False)\n",
    "\n",
    "num_top_features = 25  \n",
    "top_features = feature_importance_df.head(num_top_features)\n",
    "\n",
    "print(top_features)"
   ]
  },
  {
   "cell_type": "code",
   "execution_count": null,
   "id": "38607ebb",
   "metadata": {},
   "outputs": [],
   "source": []
  }
 ],
 "metadata": {
  "kernelspec": {
   "display_name": "Python 3",
   "language": "python",
   "name": "python3"
  },
  "language_info": {
   "codemirror_mode": {
    "name": "ipython",
    "version": 3
   },
   "file_extension": ".py",
   "mimetype": "text/x-python",
   "name": "python",
   "nbconvert_exporter": "python",
   "pygments_lexer": "ipython3",
   "version": "3.8.8"
  }
 },
 "nbformat": 4,
 "nbformat_minor": 5
}
